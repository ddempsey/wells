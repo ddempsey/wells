{
 "cells": [
  {
   "cell_type": "markdown",
   "id": "ca79e42c",
   "metadata": {},
   "source": [
    "# Power Method"
   ]
  },
  {
   "cell_type": "markdown",
   "id": "96996fad",
   "metadata": {},
   "source": [
    "The power method is an iterative technique for estimating the eigenvalues and eigenvectors of a matrix.\n",
    "\n",
    "For the matrix $A$, and initial guess of the eigenvector, $\\mathbf{x}_0$, we obtain subsequent guesses.\n",
    "\n",
    "\\begin{equation}\n",
    "\\mathbf{x}_{k+1} = \\frac{A\\mathbf{x}_k}{|A\\mathbf{x}_k|},\\quad\\quad\\lambda_1 \\approx \\frac{\\mathbf{x}_{k+1}^TA\\mathbf{x}_{k+1}}{\\mathbf{x}_{k+1}^T\\mathbf{x}_{k+1}}\n",
    "\\end{equation}\n",
    "\n",
    "The example below shows successive estimates of the eigenvector and eigenvalue for subsequent iterations of the power method. Try changing the starting vector, and see how the error reduces with each iteration. Error is estimated by the angle between eigenvector estimates in successive iterations, $\\Delta\\theta$.\n",
    "\n",
    "Consider the case below, which is also used in the notes\n",
    "\n",
    "$$A=\\begin{bmatrix} 1 & 2 \\\\ 2 & 1 \\end{bmatrix}, \\quad\\quad \\mathbf{x}_0=\\begin{bmatrix} 1 \\\\ 0 \\end{bmatrix}$$\n",
    "\n",
    "***Run the cell below by clicking to highlight it green, and then hitting Ctrl+Enter***"
   ]
  },
  {
   "cell_type": "code",
   "execution_count": null,
   "id": "57f3c2f9",
   "metadata": {},
   "outputs": [],
   "source": [
    "from encn304 import power_method\n",
    "power_method()"
   ]
  },
  {
   "cell_type": "code",
   "execution_count": null,
   "id": "e608468a",
   "metadata": {},
   "outputs": [],
   "source": [
    "# Let's have a go at implementing the method ourselves\n",
    "### LEAVE THIS CODE UNCHANGED\n",
    "import numpy as np\n",
    "\n",
    "# example from notes\n",
    "A = np.array([[1,2],[2,1]])\n",
    "\n",
    "# a starting guess for the eigenvector, making sure its a column vector (.T = transpose)\n",
    "x = np.array([1,0]).T\n",
    "\n",
    "print('A =',A)\n",
    "print('x0 =',x)\n",
    "\n",
    "# suggested functions to use:\n",
    "# np.dot(X,Y) - performs the matrix/vector multiplication, XY\n",
    "# np.sqrt(x) - calculates the square root of x\n",
    "\n",
    "### WRITE SOME CODE BELOW HERE - uncomment the complete the calculations \n",
    "\n",
    "# update the guess for the eigenvector\n",
    "# x =    # calculate the numerator for x_(k+1)\n",
    "# x =    # calculate and divide by the denominator\n",
    "#print('x1 =',x)\n",
    "\n",
    "# guess for eigenvalue\n",
    "# ev =   # calculate the eigenvalue\n",
    "#print('λ =',ev)"
   ]
  },
  {
   "cell_type": "markdown",
   "id": "b1333edb",
   "metadata": {},
   "source": [
    "# Earthquake Building Response"
   ]
  },
  {
   "cell_type": "markdown",
   "id": "89be835d",
   "metadata": {},
   "source": [
    "The earthquake response problem in pages 28 to 31 of the notes involves the solution to a coupled set of 2nd order ODEs, one for each floor of a building. The method to obtain a solution is given in detail, here we just show the solution itself.\n",
    "\n",
    "\\begin{equation}\n",
    "\\mathbf{x} = c_1\\mathbf{v}_1 \\cos(\\omega_1 t+\\phi_1)+c_2\\mathbf{v}_2 \\cos(\\omega_2 t+\\phi_2)+c_3\\mathbf{v}_3 \\cos(\\omega_3 t+\\phi_3)\n",
    "\\end{equation}\n",
    "\n",
    "where:\n",
    "- indices $1$-$3$ refer to the individual floors;\n",
    "- $\\omega_i=\\sqrt{\\lambda_i}$ are the harmonic frequencies, related to the eigenvalues;\n",
    "- $\\mathbf{v}_i$ are the characteristic displacements (eigenvectors), and;\n",
    "- $c_i$ and $\\phi_i$ are determined by initial position ($\\mathbf{x}_0$) and velocity conditions ($\\dot{\\mathbf{x}}_0$).\n",
    "\n",
    "If the initial velocity is zero, we can show that $\\phi_i$=0 and $\\mathbf{c}=V^{-1}\\mathbf{x_0}$.\n",
    "\n",
    "The solution is shown below. Although it appears chaotic, it is only a simple sum of three oscillators.\n",
    "\n",
    "***Run the cell below by highlighting it and hitting Ctrl+Enter.***"
   ]
  },
  {
   "cell_type": "code",
   "execution_count": null,
   "id": "fba7857e",
   "metadata": {},
   "outputs": [],
   "source": [
    "from encn304 import earthquake_response\n",
    "earthquake_response()"
   ]
  },
  {
   "cell_type": "markdown",
   "id": "59d671c5",
   "metadata": {},
   "source": [
    "# Euler's Method"
   ]
  },
  {
   "cell_type": "markdown",
   "id": "377ffb2e",
   "metadata": {},
   "source": [
    "Time-marching methods examined in this course match the derivatives in a **Taylor's expansion** over a finite region to some order. The omission of **higher-order** Taylor series terms in the approximation means that each method will have an associated **error**.  The **Euler method** is the simplest in that it only approximates the first derivative of the function. It does this using a first-order **finite difference** approximation to the derivative.\n",
    "\n",
    "Supposing the ODE can be written in the form\n",
    "\n",
    "\\begin{equation}\n",
    "    \\frac{dx}{dt} = f(t,x(t))\n",
    "\\end{equation}\n",
    "\n",
    "then the finite difference approximation to the derivative is:\n",
    "\n",
    "\\begin{equation}\n",
    "  \\frac{dx}{dt} \\thickapprox \\dfrac{\\Delta x}{\\Delta t} = \\dfrac{x(t+\\Delta t) - x(t)}{\\Delta t} = f\\left(t,x(t)\\right)\n",
    "\\end{equation}\n",
    "\n",
    "This can be rearranged to give\n",
    "\n",
    "\\begin{equation}\n",
    "  x(t+\\Delta t) = x(t) + \\Delta t\\,f\\left(t,x(t)\\right).\n",
    "\\end{equation}\n",
    "\n",
    "In terms of an iterating index, $k$, Euler's method is written\n",
    "\n",
    "\\begin{equation}\n",
    "  x^{(k+1)} = x^{(k)} + \\Delta t\\,f^{(k)},\\quad\\quad\\quad\\quad f^{(k)}=f\\left(t^{(k)},x^{(k)}\\right), \\quad\\quad\\quad\\quad t^{(k+1)}=t^{(k)}+\\Delta t\n",
    "\\end{equation}\n",
    "\n",
    "The example below shows, step-by-step, how Euler's method is applied for the ODE\n",
    "\n",
    "\\begin{equation}\n",
    "    \\frac{dx}{dt} = (1+tx)^2\n",
    "\\end{equation}\n",
    "\n",
    "Unlike most examples in this course, this ODE is **non-linear**, which means there is no analytical solution to compare against.\n",
    "\n",
    "***Run the cell below by highlighting it and hitting Ctrl+Enter***"
   ]
  },
  {
   "cell_type": "code",
   "execution_count": null,
   "id": "ff8b835e",
   "metadata": {},
   "outputs": [],
   "source": [
    "from encn304 import euler_method\n",
    "euler_method()"
   ]
  },
  {
   "cell_type": "code",
   "execution_count": null,
   "id": "3a8f3c95",
   "metadata": {},
   "outputs": [],
   "source": [
    "# Let's have a go at implementing the method ourselves\n",
    "# we'll solve the ODE: dx/dt = -x,  with initial condition t=0, x=1\n",
    "\n",
    "### LEAVE THIS CODE UNCHANGED\n",
    "import numpy as np\n",
    "\n",
    "# a function that returns the derivative\n",
    "def f(t,x):\n",
    "    return -x\n",
    "\n",
    "### WRITE SOME CODE BELOW HERE - follow the commented pseudo code\n",
    "# ~ ~ ~ ~ ~ ~ ~ ~ ~ ~ ~ ~ ~ ~ ~ ~ ~\n",
    "# define variables to track time, t, solution, x, and step length, dt\n",
    "# ~ ~ ~ ~ ~ ~ ~ ~ ~ ~ ~ ~ ~ ~ ~ ~ ~\n",
    "# V-V-V YOUR COMMANDS BELOW V-V-V\n",
    "\n",
    "#x = \n",
    "\n",
    "# ~ ~ ~ ~ ~ ~ ~ ~ ~ ~ ~ ~ ~ ~ ~ ~ ~\n",
    "# Write out one iteration of Euler's method by:\n",
    "# 1. calculating the derivative for the current value of x\n",
    "# 2. updating to the new value of x\n",
    "# 3. updating to the new value of t\n",
    "# ~ ~ ~ ~ ~ ~ ~ ~ ~ ~ ~ ~ ~ ~ ~ ~ ~\n",
    "# V-V-V YOUR COMMANDS BELOW V-V-V\n",
    "\n",
    "#dxdt =\n",
    "\n",
    "#print(x,t)\n",
    "\n",
    "\n",
    "# ~ ~ ~ ~ ~ ~ ~ ~ ~ ~ ~ ~ ~ ~ ~ ~ ~\n",
    "# Make your Euler method iterative\n",
    "# 1. Uncomment the empty for loop below\n",
    "# 2. Copy-paste your Euler iteration into the Python loop\n",
    "# 3. Compare your error to the \n",
    "# ~ ~ ~ ~ ~ ~ ~ ~ ~ ~ ~ ~ ~ ~ ~ ~ ~\n",
    "# V-V-V YOUR COMMANDS BELOW V-V-V\n",
    "\n",
    "#print('t, x, X')\n",
    "#for i in range(10):\n",
    "    \n",
    "#    print(t,x,np.exp(-t))"
   ]
  },
  {
   "cell_type": "markdown",
   "id": "e3d9c4f4",
   "metadata": {},
   "source": [
    "# Euler error"
   ]
  },
  {
   "cell_type": "markdown",
   "id": "71b5e429",
   "metadata": {},
   "source": [
    "The exercise below attempts to solve the ODE\n",
    "\n",
    "\\begin{equation}\n",
    "\\frac{dx}{dt} = \\sin\\left(a\\sin(t)\\sqrt{t}+\\frac{\\cos(bt)}{t+1}\\right)\n",
    "\\end{equation}\n",
    "\n",
    "with $a$=8 and $b$=8.5. However, we should be mindful of the tradeoff between **efficiency and accuracy** (or effort and error).\n",
    "\n",
    "***Execute the cell below. Experiment with the input boxes.***\n",
    "\n",
    "***In general, how many steps are required to get the error below 5%?***"
   ]
  },
  {
   "cell_type": "code",
   "execution_count": null,
   "id": "467046e7",
   "metadata": {},
   "outputs": [],
   "source": [
    "from encn304 import euler_error\n",
    "euler_error()"
   ]
  }
 ],
 "metadata": {
  "kernelspec": {
   "display_name": "wells",
   "language": "python",
   "name": "wells"
  },
  "language_info": {
   "codemirror_mode": {
    "name": "ipython",
    "version": 3
   },
   "file_extension": ".py",
   "mimetype": "text/x-python",
   "name": "python",
   "nbconvert_exporter": "python",
   "pygments_lexer": "ipython3",
   "version": "3.7.9"
  }
 },
 "nbformat": 4,
 "nbformat_minor": 5
}
