{
 "cells": [
  {
   "cell_type": "markdown",
   "id": "ca79e42c",
   "metadata": {},
   "source": [
    "# Power Method"
   ]
  },
  {
   "cell_type": "markdown",
   "id": "96996fad",
   "metadata": {},
   "source": [
    "The power method is an iterative technique for estimating the eigenvalues and eigenvectors of a matrix.\n",
    "\n",
    "For the matrix $A$, and initial guess of the eigenvector, $\\mathbf{x}_0$, we obtain subsequent guesses.\n",
    "\n",
    "\\begin{equation}\n",
    "\\mathbf{x}_{k+1} = \\frac{A\\mathbf{x}_k}{|A\\mathbf{x}_k|},\\quad\\quad\\lambda_1 \\approx \\frac{\\mathbf{x}_{k+1}^TA\\mathbf{x}_{k+1}}{\\mathbf{x}_{k+1}^T\\mathbf{x}_{k+1}}\n",
    "\\end{equation}\n",
    "\n",
    "The example below shows successive estimates of the eigenvector and eigenvalue for subsequent iterations of the power method. Try changing the starting vector, and see how the error reduces with each iteration. Error is estimated by the angle between eigenvector estimates in successive iterations, $\\Delta\\theta$.\n",
    "\n",
    "Consider the case below, which is also used in the notes\n",
    "\n",
    "$$A=\\begin{bmatrix} 1 & 2 \\\\ 2 & 1 \\end{bmatrix}, \\quad\\quad \\mathbf{x}_0=\\begin{bmatrix} 1 \\\\ 0 \\end{bmatrix}$$\n",
    "\n",
    "***Run the cell below by clicking to highlight it green, and then hitting Ctrl+Enter***"
   ]
  },
  {
   "cell_type": "code",
   "execution_count": null,
   "id": "57f3c2f9",
   "metadata": {},
   "outputs": [],
   "source": [
    "from encn304 import power_method\n",
    "power_method()"
   ]
  },
  {
   "cell_type": "code",
   "execution_count": null,
   "id": "e608468a",
   "metadata": {},
   "outputs": [],
   "source": [
    "# Let's have a go at implementing the method ourselves\n",
    "### LEAVE THIS CODE UNCHANGED\n",
    "import numpy as np\n",
    "\n",
    "# example from notes\n",
    "A = np.array([[1,2],[2,1]])\n",
    "\n",
    "# a starting guess for the eigenvector, making sure its a column vector (.T = transpose)\n",
    "x = np.array([1,0]).T\n",
    "\n",
    "print('A =',A)\n",
    "print('x0 =',x)\n",
    "\n",
    "# suggested functions to use:\n",
    "# np.dot(X,Y) - performs the matrix/vector multiplication, XY\n",
    "# np.sqrt(x) - calculates the square root of x\n",
    "\n",
    "### WRITE SOME CODE BELOW HERE - uncomment the complete the calculations \n",
    "\n",
    "# update the guess for the eigenvector\n",
    "# x =    # calculate the numerator for x_(k+1)\n",
    "# x =    # calculate and divide by the denominator\n",
    "#print('x1 =',x)\n",
    "\n",
    "# guess for eigenvalue\n",
    "# ev =   # calculate the eigenvalue\n",
    "#print('λ =',ev)"
   ]
  },
  {
   "cell_type": "markdown",
   "id": "b1333edb",
   "metadata": {},
   "source": [
    "# Earthquake Building Response"
   ]
  },
  {
   "cell_type": "markdown",
   "id": "89be835d",
   "metadata": {},
   "source": [
    "The earthquake response problem in pages 28 to 31 of the notes involves the solution to a coupled set of 2nd order ODEs, one for each floor of a building. The method to obtain a solution is given in detail, here we just show the solution itself.\n",
    "\n",
    "\\begin{equation}\n",
    "\\mathbf{x} = c_1\\mathbf{v}_1 \\cos(\\omega_1 t+\\phi_1)+c_2\\mathbf{v}_2 \\cos(\\omega_2 t+\\phi_2)+c_3\\mathbf{v}_3 \\cos(\\omega_3 t+\\phi_3)\n",
    "\\end{equation}\n",
    "\n",
    "where:\n",
    "- indices $1$-$3$ refer to the individual floors;\n",
    "- $\\omega_i=\\sqrt{\\lambda_i}$ are the harmonic frequencies, related to the eigenvalues;\n",
    "- $\\mathbf{v}_i$ are the characteristic displacements (eigenvectors), and;\n",
    "- $c_i$ and $\\phi_i$ are determined by initial position ($\\mathbf{x}_0$) and velocity conditions ($\\dot{\\mathbf{x}}_0$).\n",
    "\n",
    "If the initial velocity is zero, we can show that $\\phi_i$=0 and $\\mathbf{c}=V^{-1}\\mathbf{x_0}$.\n",
    "\n",
    "The solution is shown below. Although it appears chaotic, it is only a simple sum of three oscillators.\n",
    "\n",
    "***Run the cell below by highlighting it and hitting Ctrl+Enter.***"
   ]
  },
  {
   "cell_type": "code",
   "execution_count": null,
   "id": "fba7857e",
   "metadata": {},
   "outputs": [],
   "source": [
    "from encn304 import earthquake_response\n",
    "earthquake_response()"
   ]
  },
  {
   "cell_type": "markdown",
   "id": "59d671c5",
   "metadata": {},
   "source": [
    "# Euler's Method"
   ]
  },
  {
   "cell_type": "markdown",
   "id": "377ffb2e",
   "metadata": {},
   "source": [
    "Time-marching methods examined in this course match the derivatives in a **Taylor's expansion** over a finite region to some order. The omission of **higher-order** Taylor series terms in the approximation means that each method will have an associated **error**.  The **Euler method** is the simplest in that it only approximates the first derivative of the function. It does this using a first-order **finite difference** approximation to the derivative.\n",
    "\n",
    "Supposing the ODE can be written in the form\n",
    "\n",
    "\\begin{equation}\n",
    "    \\frac{dx}{dt} = f(t,x(t))\n",
    "\\end{equation}\n",
    "\n",
    "then the finite difference approximation to the derivative is:\n",
    "\n",
    "\\begin{equation}\n",
    "  \\frac{dx}{dt} \\thickapprox \\dfrac{\\Delta x}{\\Delta t} = \\dfrac{x(t+\\Delta t) - x(t)}{\\Delta t} = f\\left(t,x(t)\\right)\n",
    "\\end{equation}\n",
    "\n",
    "This can be rearranged to give\n",
    "\n",
    "\\begin{equation}\n",
    "  x(t+\\Delta t) = x(t) + \\Delta t\\,f\\left(t,x(t)\\right).\n",
    "\\end{equation}\n",
    "\n",
    "In terms of an iterating index, $k$, Euler's method is written\n",
    "\n",
    "\\begin{equation}\n",
    "  x^{(k+1)} = x^{(k)} + \\Delta t\\,f^{(k)},\\quad\\quad\\quad\\quad f^{(k)}=f\\left(t^{(k)},x^{(k)}\\right), \\quad\\quad\\quad\\quad t^{(k+1)}=t^{(k)}+\\Delta t\n",
    "\\end{equation}\n",
    "\n",
    "The example below shows, step-by-step, how Euler's method is applied for the ODE\n",
    "\n",
    "\\begin{equation}\n",
    "    \\frac{dx}{dt} = (1+tx)^2\n",
    "\\end{equation}\n",
    "\n",
    "Unlike most examples in this course, this ODE is **non-linear**, which means there is no analytical solution to compare against.\n",
    "\n",
    "***Run the cell below by highlighting it and hitting Ctrl+Enter***"
   ]
  },
  {
   "cell_type": "code",
   "execution_count": 22,
   "id": "ff8b835e",
   "metadata": {},
   "outputs": [
    {
     "data": {
      "application/vnd.jupyter.widget-view+json": {
       "model_id": "b20adbe491bf4983811d41f97b576476",
       "version_major": 2,
       "version_minor": 0
      },
      "text/plain": [
       "VBox(children=(HBox(children=(FloatSlider(value=0.5, description='steps', max=10.0, min=0.5, step=0.5), FloatS…"
      ]
     },
     "metadata": {},
     "output_type": "display_data"
    }
   ],
   "source": [
    "from encn304 import euler_method\n",
    "euler_method()"
   ]
  },
  {
   "cell_type": "code",
   "execution_count": null,
   "id": "3a8f3c95",
   "metadata": {},
   "outputs": [],
   "source": [
    "# Let's have a go at implementing the method ourselves\n",
    "# we'll solve the ODE: dx/dt = -x,  with initial condition t=0, x=1\n",
    "\n",
    "### LEAVE THIS CODE UNCHANGED\n",
    "import numpy as np\n",
    "\n",
    "# a function that returns the derivative\n",
    "def f(t,x):\n",
    "    return -x\n",
    "\n",
    "### WRITE SOME CODE BELOW HERE - follow the commented pseudo code\n",
    "# ~ ~ ~ ~ ~ ~ ~ ~ ~ ~ ~ ~ ~ ~ ~ ~ ~\n",
    "# define variables to track time, t, solution, x, and step length, dt\n",
    "# ~ ~ ~ ~ ~ ~ ~ ~ ~ ~ ~ ~ ~ ~ ~ ~ ~\n",
    "# V-V-V YOUR COMMANDS BELOW V-V-V\n",
    "\n",
    "#x = \n",
    "\n",
    "# ~ ~ ~ ~ ~ ~ ~ ~ ~ ~ ~ ~ ~ ~ ~ ~ ~\n",
    "# Write out one iteration of Euler's method by:\n",
    "# 1. calculating the derivative for the current value of x\n",
    "# 2. updating to the new value of x\n",
    "# 3. updating to the new value of t\n",
    "# ~ ~ ~ ~ ~ ~ ~ ~ ~ ~ ~ ~ ~ ~ ~ ~ ~\n",
    "# V-V-V YOUR COMMANDS BELOW V-V-V\n",
    "\n",
    "#dxdt =\n",
    "\n",
    "#print(x,t)\n",
    "\n",
    "\n",
    "# ~ ~ ~ ~ ~ ~ ~ ~ ~ ~ ~ ~ ~ ~ ~ ~ ~\n",
    "# Make your Euler method iterative\n",
    "# 1. Uncomment the empty for loop below\n",
    "# 2. Copy-paste your Euler iteration into the Python loop\n",
    "# 3. Compare your error to the \n",
    "# ~ ~ ~ ~ ~ ~ ~ ~ ~ ~ ~ ~ ~ ~ ~ ~ ~\n",
    "# V-V-V YOUR COMMANDS BELOW V-V-V\n",
    "\n",
    "#print('t, x, X')\n",
    "#for i in range(10):\n",
    "    \n",
    "#    print(t,x,np.exp(-t))"
   ]
  },
  {
   "cell_type": "markdown",
   "id": "e3d9c4f4",
   "metadata": {},
   "source": [
    "# Euler error"
   ]
  },
  {
   "cell_type": "markdown",
   "id": "71b5e429",
   "metadata": {},
   "source": [
    "The exercise below attempts to solve the ODE\n",
    "\n",
    "\\begin{equation}\n",
    "\\frac{dx}{dt} = \\sin\\left(a\\sin(t)\\sqrt{t}+\\frac{\\cos(bt)}{t+1}\\right)\n",
    "\\end{equation}\n",
    "\n",
    "with $a$=8 and $b$=8.5. However, we should be mindful of the tradeoff between **efficiency and accuracy** (or effort and error).\n",
    "\n",
    "***Execute the cell below. Experiment with the input boxes.***\n",
    "\n",
    "***In general, how many steps are required to get the error below 5%?***"
   ]
  },
  {
   "cell_type": "code",
   "execution_count": null,
   "id": "467046e7",
   "metadata": {},
   "outputs": [],
   "source": [
    "from encn304 import euler_error\n",
    "euler_error()"
   ]
  },
  {
   "cell_type": "markdown",
   "id": "e4d965a6",
   "metadata": {},
   "source": [
    "# Euler method in 2D"
   ]
  },
  {
   "cell_type": "markdown",
   "id": "0d735f1e",
   "metadata": {},
   "source": [
    "Suppose we have the system of ODEs\n",
    "\\begin{eqnarray}\n",
    "x_1' &=& -\\frac{3}{10}x_1 + \\frac{1}{10}x_2 \\\\\n",
    "x_2' &=& \\frac{3}{10}x_1 - \\frac{1}{10}x_2\n",
    "\\end{eqnarray}\n",
    "It has eigenvalues, $-2/5$ and $0$, and eigenvectors, $[1,-1]^T$ and $[1,3]^T$, and the general solution\n",
    "\n",
    "\\begin{equation}\n",
    "\\mathbf{x} = c_1\\begin{bmatrix} 1 \\\\ -1 \\end{bmatrix}e^{-0.4t}+c_2\\begin{bmatrix} 1 \\\\ 3 \\end{bmatrix}.\n",
    "\\end{equation}\n",
    "\n",
    "If the initial condition is $\\mathbf{x}=[4,0]^T$ when $t=0$, then $c_1=3$ and $c_2=1$.\n",
    "\n",
    "Although an analytical solution is possible for this equation, we can also solve it using Euler's method. The key is to update all components of the solution vector with individual gradient evaluations and Euler steps. Or, you can do it in a single vectorized command.\n",
    "\n",
    "***Complete the code below to solve this system of ODEs using the Euler method.***"
   ]
  },
  {
   "cell_type": "code",
   "execution_count": null,
   "id": "0ee774ce",
   "metadata": {},
   "outputs": [],
   "source": [
    "# Let's have a go at implementing the method ourselves\n",
    "# we'll solve the system of ODEs above with initial condition t=0, x=[4,0]^T, and dt=0.2\n",
    "\n",
    "### LEAVE THIS CODE UNCHANGED\n",
    "import numpy as np\n",
    "\n",
    "# a function that returns the derivative as a vector\n",
    "def f(t,x):    \n",
    "    return np.array([-0.3*x[0]+0.1*x[1], 0.3*x[0]-0.1*x[1]]).T\n",
    "\n",
    "# ~ ~ ~ ~ ~ ~ ~ ~ ~ ~ ~ ~ ~ ~ ~ ~ ~\n",
    "# define variables to track time, t, solution, x, and step length, dt\n",
    "# ~ ~ ~ ~ ~ ~ ~ ~ ~ ~ ~ ~ ~ ~ ~ ~ ~\n",
    "\n",
    "x = np.array([4,0]).T\n",
    "t=0\n",
    "dt=0.2\n",
    "\n",
    "# these are plotting commands, you can leave these alone\n",
    "%matplotlib inline\n",
    "from matplotlib import pyplot as plt\n",
    "fig,ax=plt.subplots(1,1, figsize=(12,5))\n",
    "ax.plot(t,x[0], 'ko', label='x1')\n",
    "ax.plot(t,x[1], 'bo', label='x2')\n",
    "\n",
    "### WRITE SOME CODE BELOW HERE - follow the commented pseudo code\n",
    "# ~ ~ ~ ~ ~ ~ ~ ~ ~ ~ ~ ~ ~ ~ ~ ~ ~\n",
    "# Write out one iteration of Euler's method by:\n",
    "# 1. calculating the derivative for the current value of x\n",
    "# 2. updating to the new value of x\n",
    "# 3. updating to the new value of t\n",
    "# ~ ~ ~ ~ ~ ~ ~ ~ ~ ~ ~ ~ ~ ~ ~ ~ ~\n",
    "# V-V-V YOUR COMMANDS BELOW V-V-V\n",
    "\n",
    "#dxdt =\n",
    "\n",
    "# plotting commands\n",
    "ax.plot(t,x[0], 'ko')\n",
    "ax.plot(t,x[1], 'bo')\n",
    "\n",
    "# ~ ~ ~ ~ ~ ~ ~ ~ ~ ~ ~ ~ ~ ~ ~ ~ ~\n",
    "# Make your Euler method iterative\n",
    "# 1. Uncomment the empty for loop below\n",
    "# 2. Copy-paste your Euler iteration into the Python loop\n",
    "# 3. Compare your error to the \n",
    "# ~ ~ ~ ~ ~ ~ ~ ~ ~ ~ ~ ~ ~ ~ ~ ~ ~\n",
    "# V-V-V YOUR COMMANDS BELOW V-V-V\n",
    "\n",
    "for i in range(100):\n",
    "    # your Euler code here\n",
    "\n",
    "    # more plotting commands\n",
    "    ax.plot(t,x[0], 'ko')\n",
    "    ax.plot(t,x[1], 'bo')\n",
    "\n",
    "# plot the analytical solution for comparison\n",
    "tv = np.linspace(0,20,101)\n",
    "ax.plot(tv, 3*np.exp(-0.4*tv)+1,'r-',label='X1')\n",
    "ax.plot(tv, -3*np.exp(-0.4*tv)+3,'m-',label='X2')\n",
    "ax.legend()\n",
    "plt.show()"
   ]
  },
  {
   "cell_type": "markdown",
   "id": "c5442a84",
   "metadata": {},
   "source": [
    "Let's make two changes to the code above:\n",
    "1. Add the following vector to the derivative and resolve using Euler's method (note, all you have to do is modify the gradient function f, no other changes are required). Describe the solution.\n",
    "\\begin{equation}\n",
    "\\mathbf{g}(t) = \\begin{bmatrix} \\sin(t) \\\\ -\\cos(t) \\end{bmatrix}\n",
    "\\end{equation}\n",
    "2. Change the time step to $\\Delta t$=10. Describe what happens."
   ]
  },
  {
   "cell_type": "markdown",
   "id": "39b6183f",
   "metadata": {},
   "source": [
    "# Euler stability"
   ]
  },
  {
   "cell_type": "markdown",
   "id": "c4db5766",
   "metadata": {},
   "source": [
    "Consider the simple ODE $x' = \\lambda x$, which we know has an exponential solution. For the case that $\\lambda <0$, the solution should decay to zero.\n",
    "\n",
    "The Euler update step is \n",
    "\n",
    "\\begin{equation}\n",
    "\\begin{split}\n",
    "x^{(k+1)} &=&\\,x^{(k)} + \\lambda \\,\\Delta t\\,x^{(k)} \\\\\n",
    "&=&\\,\\left(1+\\lambda \\Delta t\\right)x^{(k)} \\\\\n",
    "&=&\\,\\left(1+\\lambda \\Delta t\\right)^k x^{(0)}.\n",
    "\\end{split}\n",
    "\\end{equation}\n",
    "\n",
    "If $|1+\\lambda \\Delta t|>1$ then $x^{(k)}$ will keep increasing in value rather than decaying to 0. This defines a **stability criterion** for Euler's method applied to this problem: $-1 < 1+\\lambda \\Delta t < 1 \\Rightarrow 1 + \\lambda \\Delta t > -1 \\Rightarrow \\lambda \\Delta t > -2 \\Rightarrow \\Delta t < - \\dfrac{2}{\\lambda }$.  Therefore the stability criterion for the Euler method to give stable solutions for this problem is $\\Delta t < -\\dfrac{2}{\\lambda }$.\n",
    "\n",
    "***Run the cell below with Ctrl+Enter***"
   ]
  },
  {
   "cell_type": "code",
   "execution_count": 3,
   "id": "935da55d",
   "metadata": {},
   "outputs": [
    {
     "data": {
      "application/vnd.jupyter.widget-view+json": {
       "model_id": "0f882c873ba84ef3acc004edea3bb5e7",
       "version_major": 2,
       "version_minor": 0
      },
      "text/plain": [
       "VBox(children=(HBox(children=(IntSlider(value=15, description='steps', max=15, min=3), Dropdown(description='m…"
      ]
     },
     "metadata": {},
     "output_type": "display_data"
    }
   ],
   "source": [
    "from encn304 import euler_stability\n",
    "euler_stability()"
   ]
  },
  {
   "cell_type": "markdown",
   "id": "03fe7afd",
   "metadata": {},
   "source": [
    "# Richardson extrapolation"
   ]
  },
  {
   "cell_type": "markdown",
   "id": "25420d09",
   "metadata": {},
   "source": [
    "We know that cutting the time step with Euler's method will improve the accuracy. We can use our understanding of the error dependence on $\\Delta t$ to further refine the solution, by combining an Euler solution at two time steps in a special way.\n",
    "\n",
    "The error in a single Euler step is \n",
    "\n",
    "$$ E_{total} = X(t)-x_{\\Delta t}(t) = A\\Delta t +\\mathcal{O}(\\Delta t^2)$$\n",
    "\n",
    "where $A$ is a constant for the leading order error term.\n",
    "\n",
    "If we instead take TWO time steps, of half the size, $\\Delta t/2$, then we know that the error is also halved, i.e.,\n",
    "\n",
    "\\begin{eqnarray}\n",
    "E_{total}(\\Delta t) &=& A\\Delta t +\\mathcal{O}(\\Delta t^2)\\\\\n",
    "E_{total}(\\Delta t/2) &=& A\\Delta t/2 +\\mathcal{O}((\\Delta t/2)^2)\n",
    "\\end{eqnarray}\n",
    "\n",
    "Subtracting the first equation from twice the second gives us\n",
    "\n",
    "\\begin{eqnarray}\n",
    "2[X-x_{\\Delta t/2}] -[X-x_{\\Delta t}] &=& 2[A\\Delta t/2 +\\mathcal{O}((\\Delta t/2)^2)]-[A\\Delta t +\\mathcal{O}(\\Delta t^2)]\\\\\n",
    "X - [2x_{\\Delta t/2}-x_{\\Delta t}] &=& \\mathcal{O}(\\Delta t^2)\\\\\n",
    "X &=& [2x_{\\Delta t/2}-x_{\\Delta t}] + \\mathcal{O}(\\Delta t^2)\\\\\n",
    "\\end{eqnarray}\n",
    "\n",
    "which indicates that the error is now proportional to the time step squared (a second order accurate method)."
   ]
  },
  {
   "cell_type": "code",
   "execution_count": null,
   "id": "2bda8477",
   "metadata": {},
   "outputs": [],
   "source": [
    "# Let's have a go at implementing Richardson extrapolation ourselves\n",
    "# we'll solve the simple ODE, dxdt = -x, subject to the initial condition [1,0], using dt = 0.2\n",
    "\n",
    "### LEAVE THIS CODE UNCHANGED\n",
    "import numpy as np\n",
    "\n",
    "# a function that returns the derivative\n",
    "def f(t,x):    \n",
    "    return -x\n",
    "# a function that returns the analytical solution\n",
    "def X(t):\n",
    "    return np.exp(-t)\n",
    "\n",
    "# ~ ~ ~ ~ ~ ~ ~ ~ ~ ~ ~ ~ ~ ~ ~ ~ ~\n",
    "# define variables to track time, t, solution, x, and step length, dt\n",
    "# ~ ~ ~ ~ ~ ~ ~ ~ ~ ~ ~ ~ ~ ~ ~ ~ ~\n",
    "\n",
    "x = 1\n",
    "t = 0\n",
    "dt = 0.2\n",
    "\n",
    "### WRITE SOME CODE BELOW HERE - follow the commented pseudo code\n",
    "# ~ ~ ~ ~ ~ ~ ~ ~ ~ ~ ~ ~ ~ ~ ~ ~ ~\n",
    "# Write out one iteration of Euler's method using dt:\n",
    "# 1. calculating the derivative for the current value of x\n",
    "# 2. updating to the new value of x\n",
    "# 3. updating to the new value of t\n",
    "# ~ ~ ~ ~ ~ ~ ~ ~ ~ ~ ~ ~ ~ ~ ~ ~ ~\n",
    "# V-V-V YOUR COMMANDS BELOW V-V-V\n",
    "\n",
    "#dxdt =\n",
    "print(x)\n",
    "\n",
    "# ~ ~ ~ ~ ~ ~ ~ ~ ~ ~ ~ ~ ~ ~ ~ ~ ~\n",
    "# Write out two iterations of Euler's method using dt/2:\n",
    "# 1. use the derivative from the previous step to calc the solution midpoint\n",
    "# 2. calculate the derivative at the midpoint\n",
    "# 3. calculate the solution at the end of dt\n",
    "# ~ ~ ~ ~ ~ ~ ~ ~ ~ ~ ~ ~ ~ ~ ~ ~ ~\n",
    "# V-V-V YOUR COMMANDS BELOW V-V-V\n",
    "\n",
    "#x_mid = \n",
    "#dxdt_mid\n",
    "#print(x_mid, x)\n",
    "\n",
    "# ~ ~ ~ ~ ~ ~ ~ ~ ~ ~ ~ ~ ~ ~ ~ ~ ~\n",
    "# Write out the improved estimate of x using Richardson extrapolation:\n",
    "# 1. use your solutions from the two code blocks above\n",
    "# 2. calculate how close the three estimates are to the analytical solution\n",
    "#    (a) absolute error = |x-X|\n",
    "#    (b) relative error = |x-X|/|X|\n",
    "# ~ ~ ~ ~ ~ ~ ~ ~ ~ ~ ~ ~ ~ ~ ~ ~ ~\n",
    "# V-V-V YOUR COMMANDS BELOW V-V-V\n",
    "\n",
    "#x_re = \n",
    "#abs_err = \n",
    "#rel_err = "
   ]
  },
  {
   "cell_type": "markdown",
   "id": "877266e2",
   "metadata": {},
   "source": [
    "# Implicit methods"
   ]
  },
  {
   "cell_type": "markdown",
   "id": "0f911b86",
   "metadata": {},
   "source": [
    "An issue with the methods we have looked so far is their stability in non-linear problems. If the function is changing rapidly, it will have a large derivative. Using the estimate of the derivative at the current value of the solution and 'jumping ahead' can run the risk that we greatly overshoot. An unstable problem will compound these overshoots.\n",
    "\n",
    "Methods that use the current estimate of the gradient to jump ahead are called **Explicit** methods.\n",
    "\n",
    "But what if we could use the derivative in the future, at the end of the time step? This partly solves the overshoot problem, but it also puts the horse before the cart. How can we know the derivative in the future if we haven't taken a step there yet?\n",
    "\n",
    "**Implicit** methods involve iteratively guessing a future solution that, when we calculate its derivative, draws a line connecting back to our current step. Usually, the first guess is wrong, which means we need to keep calculating updates until it is appropximately correct.\n",
    "\n",
    "Thus, backward Euler is defined\n",
    "\n",
    "$$ x_{n+1} = x_{n}+\\Delta t f(t_{n+1}, x_{n+1})$$\n",
    "\n",
    "which is almost identical to the regular Euler method, except that the derivative is evaluated at $f(t_{n+1}, x_{n+1})$ instead of $f(t_{n}, x_{n})$.\n",
    "\n",
    "***Run the cell below for an demonstration of how the Backward Euler method works.***"
   ]
  },
  {
   "cell_type": "code",
   "execution_count": 2,
   "id": "98201712",
   "metadata": {},
   "outputs": [
    {
     "data": {
      "application/vnd.jupyter.widget-view+json": {
       "model_id": "6e044ecfe28b439b8cc99597d5d7cf8e",
       "version_major": 2,
       "version_minor": 0
      },
      "text/plain": [
       "VBox(children=(HBox(children=(FloatSlider(value=7.25, description='steps', max=9.0, min=1.25, step=0.25), Chec…"
      ]
     },
     "metadata": {},
     "output_type": "display_data"
    }
   ],
   "source": [
    "from encn304 import backward_euler\n",
    "backward_euler()"
   ]
  },
  {
   "cell_type": "markdown",
   "id": "afa0c190",
   "metadata": {},
   "source": [
    "How should we get these future guesses and update them? There are a number of strategies. We'll look at a simple one called **predictor-corrector**, or **function iteration**. The basic strategy is:\n",
    "1. Use a standard Euler step to guess the future: $x_{n+1}^{(0)}$. This is called the **predictor**.\n",
    "2. Evaluate the gradient at the future guess: $f(t_{n+1}, x_{n+1}^{(0)})$\n",
    "3. Use the backward Euler step to update the guess of the future: $x_{n+1}^{(1)} = x_{n}+\\Delta t f(t_{n+1}, x_{n+1}^{(0)})$. This is called the **corrector**.\n",
    "4. Keep updating in this manner: $x_{n+1}^{(i+1)} = x_{n}+\\Delta t f(t_{n+1}, x_{n+1}^{(i)})$. Each time, we obtain a better **corrector**.\n",
    "5. Stop updating when the change from one guess to the next is small: $|x_{n+1}^{(i+1)}-x_{n+1}^{(i)}|<\\epsilon$\n",
    "6. Accept $x_{n+1}^{(i+1)}$ as the next step and restart the iteration to estimate $x_{n+2}$.\n",
    "\n",
    "Final note: because this method uses an Euler step, it is still subject to the conditional stability of the Euler method. Which would seem to defeat the purpose, because the principle advantage of implicit methods is supposed to be their unconditional stability. There are more complex versions of Backward Euler that use **Newton Iteration** instead of function iteration. Although these are unconditionally stable, they are too difficult for us to implement here."
   ]
  },
  {
   "cell_type": "code",
   "execution_count": null,
   "id": "b8951856",
   "metadata": {},
   "outputs": [],
   "source": [
    "# Let's have a go at implementing a predictor-corrector method\n",
    "# we'll solve the simple ODE, dxdt = -x, subject to the initial condition [1,0], using dt = 0.2\n",
    "\n",
    "### LEAVE THIS CODE UNCHANGED\n",
    "import numpy as np\n",
    "\n",
    "# a function that returns the derivative\n",
    "def f(t,x):    \n",
    "    return -x\n",
    "# a function that returns the analytical solution\n",
    "def X(t):\n",
    "    return np.exp(-t)\n",
    "\n",
    "# ~ ~ ~ ~ ~ ~ ~ ~ ~ ~ ~ ~ ~ ~ ~ ~ ~\n",
    "# define variables to track time, t, solution, x, and step length, dt\n",
    "# ~ ~ ~ ~ ~ ~ ~ ~ ~ ~ ~ ~ ~ ~ ~ ~ ~\n",
    "\n",
    "x = 1\n",
    "t = 0\n",
    "dt = 0.2\n",
    "\n",
    "### WRITE SOME CODE BELOW HERE - follow the commented pseudo code\n",
    "# ~ ~ ~ ~ ~ ~ ~ ~ ~ ~ ~ ~ ~ ~ ~ ~ ~\n",
    "# Write out one iteration of Euler's method using dt:\n",
    "# 1. calculate the derivative for the current value of x\n",
    "# 2. update to the new value of x_1^(0) - the predictor\n",
    "# 3. updating to the new value of t_1\n",
    "# ~ ~ ~ ~ ~ ~ ~ ~ ~ ~ ~ ~ ~ ~ ~ ~ ~\n",
    "# V-V-V YOUR COMMANDS BELOW V-V-V\n",
    "\n",
    "#dxdt =\n",
    "#x_pred = \n",
    "\n",
    "# ~ ~ ~ ~ ~ ~ ~ ~ ~ ~ ~ ~ ~ ~ ~ ~ ~\n",
    "# Use the previous iteration to:\n",
    "# 1. calculate the derivative at the predictor x_1^(0)\n",
    "# 2. calculate the corrector update, x_1^(1)\n",
    "# 3. use copy-paste to calculate three updates, x_1^(2), (3), & (4)\n",
    "# ~ ~ ~ ~ ~ ~ ~ ~ ~ ~ ~ ~ ~ ~ ~ ~ ~\n",
    "# V-V-V YOUR COMMANDS BELOW V-V-V\n",
    "\n",
    "#dxdt_pred\n",
    "#x_corr1\n",
    "#print(x_pred, x_corr1)\n",
    "\n",
    "# ~ ~ ~ ~ ~ ~ ~ ~ ~ ~ ~ ~ ~ ~ ~ ~ ~\n",
    "# Move to the next iteration:\n",
    "# 1. calculate the error in the prior step by taking the difference\n",
    "#    between the last two iterations, x_1^(4)-x_1^(3).\n",
    "# 2. accept x_1^(4) as the new estimate x_1\n",
    "# 3. use copy-paste to calculate the next iteration x_2\n",
    "# ~ ~ ~ ~ ~ ~ ~ ~ ~ ~ ~ ~ ~ ~ ~ ~ ~\n",
    "# V-V-V YOUR COMMANDS BELOW V-V-V\n",
    "\n",
    "#abs_err = \n",
    "#x1=\n",
    "#x2="
   ]
  },
  {
   "cell_type": "markdown",
   "id": "fdf6ebd5",
   "metadata": {},
   "source": [
    "# Runge-Kutta methods"
   ]
  },
  {
   "cell_type": "markdown",
   "id": "812fb05a",
   "metadata": {},
   "source": [
    "The Runge-Kutta (RK) methods are a family of implicit and explicit iterative methods that were developed around 1900. They  solve the system of ODEs via the form\n",
    "\n",
    "$$ \\mathbf{x}_{n+1} = \\mathbf{x}_n + \\mathbf{F}\\left(t_n+\\alpha\\Delta t, \\mathbf{x}(t_n+\\beta\\Delta t)\\right)\\Delta t$$\n",
    "\n",
    "For example, comparing the equation above with the modified Euler method\n",
    "\n",
    "$$ \\mathbf{x}_{n+1} = \\mathbf{x}_n + \\mathbf{F}\\left(t_n+\\Delta t/2, \\mathbf{x}(t_n+\\Delta t/2)\\right)\\Delta t$$\n",
    "\n",
    "we can see that by choosing $\\alpha=\\beta=1/2$ we obtain a second-order accurate method.\n",
    "\n",
    "Another popular variation is RK4, where\n",
    "\n",
    "$$\\mathbf{x}_{n+1} = \\mathbf{x}+\\mathbf{F}_4\\Delta t$$\n",
    "\n",
    "where \n",
    "\n",
    "\\begin{eqnarray}\n",
    "\\mathbf{F}_4 &=& \\frac{1}{6}(\\mathbf{k}_1+2\\mathbf{k}_2+2\\mathbf{k}_3+\\mathbf{k}_4)\\\\\n",
    "\\mathbf{k}_1&=& \\mathbf{F}(t_n, \\mathbf{x}_n)\\\\\n",
    "\\mathbf{k}_2&=& \\mathbf{F}(t_n+\\Delta t/2,\\mathbf{x}_n+\\mathbf{k}_1\\Delta t/2)\\\\\n",
    "\\mathbf{k}_3&=& \\mathbf{F}(t_n+\\Delta t/2,\\mathbf{x}_n+\\mathbf{k}_2\\Delta t/2)\\\\\n",
    "\\mathbf{k}_4&=& \\mathbf{F}(t_n+\\Delta t,\\mathbf{x}_n+\\mathbf{k}_3\\Delta t)\n",
    "\\end{eqnarray}\n",
    "\n",
    "which, through clever calculations and recalculations of gradients at certain locations, produces a truncation error of order $\\mathcal{O}(\\Delta t^5)$.\n",
    "\n",
    "***Let's implement one step to see how it works.***"
   ]
  },
  {
   "cell_type": "code",
   "execution_count": 1,
   "id": "430d9a16",
   "metadata": {},
   "outputs": [
    {
     "name": "stdout",
     "output_type": "stream",
     "text": [
      "-1 0.9\n",
      "-0.9 0.91\n",
      "-0.91 0.818\n",
      "-0.818 0.8187333333333333 0.8187307530779818\n"
     ]
    }
   ],
   "source": [
    "# Let's have a go at implementing the RK4 predictor-corrector method\n",
    "# we'll solve the simple ODE, dxdt = -x, subject to the initial condition [1,0], using dt = 0.2\n",
    "# correct answers at each step are given in brackets in the pseudocode\n",
    "\n",
    "### LEAVE THIS CODE UNCHANGED\n",
    "import numpy as np\n",
    "\n",
    "# a function that returns the derivative\n",
    "def f(t,x):    \n",
    "    return -x\n",
    "# a function that returns the analytical solution\n",
    "def X(t):\n",
    "    return np.exp(-t)\n",
    "\n",
    "# ~ ~ ~ ~ ~ ~ ~ ~ ~ ~ ~ ~ ~ ~ ~ ~ ~\n",
    "# define variables to track time, t, solution, x, and step length, dt\n",
    "# ~ ~ ~ ~ ~ ~ ~ ~ ~ ~ ~ ~ ~ ~ ~ ~ ~\n",
    "\n",
    "x = 1\n",
    "t = 0\n",
    "dt = 0.2\n",
    "\n",
    "### WRITE SOME CODE BELOW HERE - follow the commented pseudo code\n",
    "# ~ ~ ~ ~ ~ ~ ~ ~ ~ ~ ~ ~ ~ ~ ~ ~ ~\n",
    "# Write out one iteration of Euler's method using dt/2:\n",
    "# 1. calculate a PREDICTOR of the derivative at the current, xn: \n",
    "#       k1=f(tn,xn)    (=-1.0)\n",
    "# 2. take a PREDICTOR step to the midpoint:\n",
    "#       xn_1/2_p = xn + k1*dt/2    (=0.9)\n",
    "# ~ ~ ~ ~ ~ ~ ~ ~ ~ ~ ~ ~ ~ ~ ~ ~ ~\n",
    "# V-V-V YOUR COMMANDS BELOW V-V-V\n",
    "\n",
    "#k1 = \n",
    "#x_dt2_p = \n",
    "#print(k1, x_dt2_p)\n",
    "\n",
    "# ~ ~ ~ ~ ~ ~ ~ ~ ~ ~ ~ ~ ~ ~ ~ ~ ~\n",
    "# Use the previous iteration to:\n",
    "# 1. calculate a PREDICTOR of the derivative at the midpoint, xn_1/2: \n",
    "#       k2=f(tn+dt/2,xn_1/2_p)    (=-0.9)\n",
    "#    k2 is also a CORRECTOR of the derivative at the current, xn\n",
    "# 2. recalculate a CORRECTOR step to the midpoint:\n",
    "#    xn_1/2_c = xn + k2*dt/2    (=0.91)\n",
    "# ~ ~ ~ ~ ~ ~ ~ ~ ~ ~ ~ ~ ~ ~ ~ ~ ~\n",
    "# V-V-V YOUR COMMANDS BELOW V-V-V\n",
    "\n",
    "#k2 = \n",
    "#x_dt2_c =\n",
    "#print(k2, x_dt2_c)\n",
    "\n",
    "# ~ ~ ~ ~ ~ ~ ~ ~ ~ ~ ~ ~ ~ ~ ~ ~ ~\n",
    "# Use the previous iteration to:\n",
    "# 1. calculate a CORRECTOR of the derivative at the CORRECTOR midpoint: \n",
    "#       k3=f(tn+dt/2,xn_1/2_c)    (=-0.91)\n",
    "#    k2 is also a CORRECTOR of the derivative at the current, xn\n",
    "# 2. calculate a PREDICTOR step of dt, using the midpoint CORRECTED derivative: \n",
    "#    xn_1_p = xn + k3*dt    (=0.818)\n",
    "# ~ ~ ~ ~ ~ ~ ~ ~ ~ ~ ~ ~ ~ ~ ~ ~ ~\n",
    "# V-V-V YOUR COMMANDS BELOW V-V-V\n",
    "\n",
    "#k3 = \n",
    "#x_dt_p = \n",
    "#print(k3, x_dt_p)\n",
    "\n",
    "# ~ ~ ~ ~ ~ ~ ~ ~ ~ ~ ~ ~ ~ ~ ~ ~ ~\n",
    "# Use the previous iteration to:\n",
    "# 1. calculate the derivative at the endpoint, xn_1: \n",
    "#       k4=f(tn+dt,xn_1_p)    (=-0.818)\n",
    "# 2. calculate the CORRECTOR step of dt, using derivatives k1-k4: \n",
    "#    xn_1_c = xn + dt*(k1+2*k2+2*k3+k4)/6    (=0.818733)\n",
    "# 2. compare to the ANALYTICAL solution at dt: \n",
    "#    Xn_1 = exp(-dt)    (=0.818731)\n",
    "# ~ ~ ~ ~ ~ ~ ~ ~ ~ ~ ~ ~ ~ ~ ~ ~ ~\n",
    "# V-V-V YOUR COMMANDS BELOW V-V-V\n",
    "\n",
    "#k4 = \n",
    "#x_dt_c = \n",
    "#print(k4, x_dt_c, X(dt))"
   ]
  },
  {
   "cell_type": "markdown",
   "id": "1a43e67b",
   "metadata": {},
   "source": [
    "Usually, we wouldn't write these functions out ourselves (although it's still good to know how they work). Instead, someone has already done it for us in Python. What we need to know is how to effectively use these pre-written functions.\n",
    "\n",
    "Let's learn to use them, first on some simple problems, then some challenging ones."
   ]
  },
  {
   "cell_type": "markdown",
   "id": "c8b393a5",
   "metadata": {},
   "source": [
    "## Examples: \n",
    "\n",
    "Consider the differential equations, some of which have analytical solutions:\n",
    "\n",
    "1. $$\\frac{dx}{dt}=\\cos(t),\\quad\\quad t_0,x_0=(0,0)\\quad\\quad\\Rightarrow\\quad\\quad X=\\sin(t)$$\n",
    "\n",
    "2. $$\\frac{dx}{dt} = (1+tx)^2, \\quad\\quad t_0,x_0=(0,1)\\quad\\quad\\Rightarrow\\quad\\quad X=\\text{unknown}$$\n",
    "\n",
    "3. $$\\mathbf{x}' = \\begin{bmatrix} -0.3 & 0.1 \\\\ 0.3 & -0.1 \\end{bmatrix} \\mathbf{x},\\quad\\quad \\mathbf{x}_0=\\begin{bmatrix} 4 \\\\ 0 \\end{bmatrix} \\quad\\quad\\Rightarrow\\quad\\quad \\mathbf{X} = 3\\begin{bmatrix} 1 \\\\ -1 \\end{bmatrix}e^{-0.4t}+\\begin{bmatrix} 1 \\\\ 3 \\end{bmatrix}.$$\n",
    "\n",
    "4. \\begin{eqnarray}x'&=&-\\sigma x+\\sigma y\\\\y'&=&rx-y-xz\\\\z'&=&-bz+xy\\end{eqnarray}\n",
    "\n",
    "The last set is called the Lorenz equations, and they are used for studying atmospheric dynamics. This chaotic system has no analytical solution. We'll solve it with $\\sigma$=10, $b$=2.66667, $r$=28, and with initial condition $\\mathbf{x}_0=[5,5,5]^T$."
   ]
  },
  {
   "cell_type": "code",
   "execution_count": 16,
   "id": "e6355699",
   "metadata": {},
   "outputs": [
    {
     "name": "stderr",
     "output_type": "stream",
     "text": [
      "C:\\Users\\dde62\\Anaconda3\\envs\\wells\\lib\\site-packages\\ipykernel_launcher.py:56: RuntimeWarning: invalid value encountered in true_divide\n"
     ]
    },
    {
     "data": {
      "text/plain": [
       "Text(0, 0.5, 'rel err')"
      ]
     },
     "execution_count": 16,
     "metadata": {},
     "output_type": "execute_result"
    },
    {
     "data": {
      "image/png": "[encoded data removed]",
      "text/plain": [
       "<Figure size 1080x360 with 3 Axes>"
      ]
     },
     "metadata": {
      "needs_background": "light"
     },
     "output_type": "display_data"
    }
   ],
   "source": [
    "import numpy as np\n",
    "\n",
    "# EXAMPLE 1\n",
    "# ---------\n",
    "# COMPLETE the derivative equation\n",
    "def f1(t,x):\n",
    "    return np.cos(t)\n",
    "\n",
    "# the analytical solution\n",
    "def X1(t):\n",
    "    return np.sin(t)\n",
    "\n",
    "# EXAMPLE X\n",
    "# ---------\n",
    "# ADD MORE EXAMPLES BELOW\n",
    "\n",
    "# the initial condition\n",
    "t0 = 0\n",
    "x0 = 0\n",
    "f = f1   # change this to f2, f3 as you add more derivative equations\n",
    "X = X1   # change this to X3 or None (if there is no solution)\n",
    "\n",
    "# time period to solve for\n",
    "tspan = [t0, 10]\n",
    "tv = np.linspace(*tspan, 101)  # *tspan is called \"unpacking\" a list, and is equivalent to tspan[0], tspan[1]\n",
    "\n",
    "# call the solve_ivp function\n",
    "from scipy.integrate import solve_ivp\n",
    "rtol = 1.e-4\n",
    "atol = 1.e-4\n",
    "out = solve_ivp(f, tspan, [x0,], method='RK45', t_eval=tv, rtol=rtol, atol=atol)   # <- what do all these arguments mean?\n",
    "\n",
    "# this command only for Jupyter, not Wing\n",
    "%matplotlib inline\n",
    "\n",
    "# plot approximate solution\n",
    "from matplotlib import pyplot as plt\n",
    "fig,(ax,ax2)=plt.subplots(1,2, figsize=(15,5))\n",
    "ax.plot(out.t, out.y[0,:], 'k-', label='x')\n",
    "\n",
    "# plot the error\n",
    "ax2_=ax2.twinx()\n",
    "if X is not None:\n",
    "    # analytical solution\n",
    "    Xv = X(out.t)\n",
    "else:\n",
    "    # if no analytical solution, solve again with smaller error tolerances, use this as analytical\n",
    "    out2 = solve_ivp(f, tspan, [x0,], method='RK45', t_eval=tv, rtol=rtol/100, atol=atol/100) \n",
    "    Xv = out2.y[0,:]\n",
    "\n",
    "# plot accurate solution\n",
    "ax.plot(out.t, Xv, 'r--', label='X')\n",
    "    \n",
    "# plot errors\n",
    "ax2.plot(out.t, abs(out.y[0,:]-Xv), 'r-',label='abs err')\n",
    "ax2_.plot(out.t, abs(out.y[0,:]-Xv)/abs(Xv), 'b-')\n",
    "\n",
    "# make plots nice\n",
    "ax2.plot([], [], 'b-',label='rel err')\n",
    "ax.legend()\n",
    "ax2.legend()\n",
    "ax.set_xlabel('t')\n",
    "ax2.set_xlabel('t')\n",
    "ax.set_ylabel('x')\n",
    "ax2.set_ylabel('abs err')\n",
    "ax2_.set_ylabel('rel err')"
   ]
  }
 ],
 "metadata": {
  "kernelspec": {
   "display_name": "wells",
   "language": "python",
   "name": "wells"
  },
  "language_info": {
   "codemirror_mode": {
    "name": "ipython",
    "version": 3
   },
   "file_extension": ".py",
   "mimetype": "text/x-python",
   "name": "python",
   "nbconvert_exporter": "python",
   "pygments_lexer": "ipython3",
   "version": "3.7.9"
  }
 },
 "nbformat": 4,
 "nbformat_minor": 5
}
