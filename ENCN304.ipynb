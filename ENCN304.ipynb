{
 "cells": [
  {
   "cell_type": "markdown",
   "id": "ca79e42c",
   "metadata": {},
   "source": [
    "# Power Method"
   ]
  },
  {
   "cell_type": "markdown",
   "id": "96996fad",
   "metadata": {},
   "source": [
    "The power method is an iterative technique for estimating the eigenvalues and eigenvectors of a matrix.\n",
    "\n",
    "For the matrix $A$, and initial guess of the eigenvector, $\\mathbf{x}_0$, we obtain subsequent guesses.\n",
    "\n",
    "\\begin{equation}\n",
    "\\mathbf{x}_{k+1} = \\frac{A\\mathbf{x}_k}{|A\\mathbf{x}_k|},\\quad\\quad\\lambda_1 \\approx \\frac{\\mathbf{x}_{k+1}^TA\\mathbf{x}_{k+1}}{\\mathbf{x}_{k+1}^T\\mathbf{x}_{k+1}}\n",
    "\\end{equation}\n",
    "\n",
    "The example below shows successive estimates of the eigenvector and eigenvalue for subsequent iterations of the power method. Try changing the starting vector, and see how the error reduces with each iteration. Error is estimated by the angle between eigenvector estimates in successive iterations, $\\Delta\\theta$.\n",
    "\n",
    "Consider the case below, which is also used in the notes\n",
    "\n",
    "$$A=\\begin{bmatrix} 1 & 2 \\\\ 2 & 1 \\end{bmatrix}, \\quad\\quad \\mathbf{x}_0=\\begin{bmatrix} 1 \\\\ 0 \\end{bmatrix}$$\n",
    "\n",
    "***Run the cell below by clicking to highlight it green, and then hitting Ctrl+Enter***"
   ]
  },
  {
   "cell_type": "code",
   "execution_count": 24,
   "id": "57f3c2f9",
   "metadata": {},
   "outputs": [
    {
     "data": {
      "application/vnd.jupyter.widget-view+json": {
       "model_id": "85709b61c29a4009a97de3fd682ee7fe",
       "version_major": 2,
       "version_minor": 0
      },
      "text/plain": [
       "VBox(children=(HBox(children=(IntSlider(value=1, description='iterations', max=7, min=1), Label(value='$x_0$')…"
      ]
     },
     "metadata": {},
     "output_type": "display_data"
    }
   ],
   "source": [
    "from encn304 import power_method\n",
    "power_method()"
   ]
  },
  {
   "cell_type": "code",
   "execution_count": 25,
   "id": "e608468a",
   "metadata": {},
   "outputs": [
    {
     "name": "stdout",
     "output_type": "stream",
     "text": [
      "A = [[1 2]\n",
      " [2 1]]\n",
      "x0 = [1 0]\n"
     ]
    }
   ],
   "source": [
    "# Let's have a go at implementing the method ourselves\n",
    "### LEAVE THIS CODE UNCHANGED\n",
    "import numpy as np\n",
    "\n",
    "# example from notes\n",
    "A = np.array([[1,2],[2,1]])\n",
    "\n",
    "# a starting guess for the eigenvector, making sure its a column vector (.T = transpose)\n",
    "x = np.array([1,0]).T\n",
    "\n",
    "print('A =',A)\n",
    "print('x0 =',x)\n",
    "\n",
    "# suggested functions to use:\n",
    "# np.dot(X,Y) - performs the matrix/vector multiplication, XY\n",
    "# np.sqrt(x) - calculates the square root of x\n",
    "\n",
    "### WRITE SOME CODE BELOW HERE - uncomment the complete the calculations \n",
    "\n",
    "# update the guess for the eigenvector\n",
    "# x =    # calculate the numerator for x_(k+1)\n",
    "# x =    # calculate and divide by the denominator\n",
    "#print('x1 =',x)\n",
    "\n",
    "# guess for eigenvalue\n",
    "# ev =   # calculate the eigenvalue\n",
    "#print('λ =',ev)"
   ]
  }
 ],
 "metadata": {
  "kernelspec": {
   "display_name": "wells",
   "language": "python",
   "name": "wells"
  },
  "language_info": {
   "codemirror_mode": {
    "name": "ipython",
    "version": 3
   },
   "file_extension": ".py",
   "mimetype": "text/x-python",
   "name": "python",
   "nbconvert_exporter": "python",
   "pygments_lexer": "ipython3",
   "version": "3.7.9"
  }
 },
 "nbformat": 4,
 "nbformat_minor": 5
}
