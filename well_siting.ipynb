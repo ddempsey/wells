{
 "cells": [
  {
   "cell_type": "markdown",
   "id": "519aaf5b",
   "metadata": {},
   "source": [
    "# Well siting"
   ]
  },
  {
   "cell_type": "markdown",
   "id": "d941e790",
   "metadata": {},
   "source": [
    "Groundwater wells are expensive to drill, so it makes sense to think carefully about **where** we place them. The three things to think about are:\n",
    "1. Is my well location **practical**?\n",
    "2. Will my well adversely impact other users **nearby**?\n",
    "3. Is my well close to any sources of **contamination**?\n",
    "\n",
    "We'll start thinking about these problems in this notebook. To start, **run the cell below**."
   ]
  },
  {
   "cell_type": "code",
   "execution_count": 24,
   "id": "5e5f232d",
   "metadata": {},
   "outputs": [],
   "source": [
    "from travel_time import*"
   ]
  },
  {
   "cell_type": "markdown",
   "id": "ec4f16ae",
   "metadata": {},
   "source": [
    "## Cone of depression"
   ]
  },
  {
   "cell_type": "markdown",
   "id": "acb223eb",
   "metadata": {},
   "source": [
    "The spatial impact or \"footprint\" of a well is quantified by its **cone of depression**, which represents the aquifer drawdown caused by pumping the well.\n",
    "\n",
    "The exercise below gives you a well to move around beautiful Christchurch. Play with the sliders and drag the well to a new location, to see how choices you make affect how much drawdown occurs (note, contours are drawn at 0.25 m)."
   ]
  },
  {
   "cell_type": "code",
   "execution_count": null,
   "id": "6ffeb1ce",
   "metadata": {
    "scrolled": false
   },
   "outputs": [],
   "source": [
    "theis_fun()"
   ]
  },
  {
   "cell_type": "markdown",
   "id": "5c603ba5",
   "metadata": {},
   "source": [
    "## Superposition"
   ]
  },
  {
   "cell_type": "markdown",
   "id": "1047810c",
   "metadata": {},
   "source": [
    "Superposition describes the **addition** of multiple cones of depression from nearby pumping wells. This is especially important to think about when wells are closely spaced, because they can **interfere adversely** with each other.\n",
    "\n",
    "When **planning** a new well, we need to think about possible impacts on neighbouring wells. We also need to think about the total impact on the groundwater system and any **streams** it might be supporting through **baseflow**."
   ]
  },
  {
   "cell_type": "markdown",
   "id": "374f9e4c",
   "metadata": {},
   "source": [
    "*The exercise below allows you to place four different wells and vary the pumping rate from each. Contours of total drawdown, calculated by superposition, are shown.*"
   ]
  },
  {
   "cell_type": "markdown",
   "id": "a290f190",
   "metadata": {},
   "source": [
    "***Select positions for the four wells subject to the following constraints.***\n",
    "1. Wells should be placed in the Christchurch **red zone**, because the land is available to Council at zero cost.\n",
    "2. Wells should be placed as close as possible to **residential areas**, to minimize the cost of connection into the Council Water Supply network (which runs along residential streets).\n",
    "3. To avoid negative impacts on the **Avon/&Omacr;t&amacr;karo river**, drawdown should not exceed 1.5 m anywhere beneath the river.\n",
    "4. To obtain value for money, the **total pumping rate** should be maximized."
   ]
  },
  {
   "cell_type": "code",
   "execution_count": 25,
   "id": "0ee17cab",
   "metadata": {
    "scrolled": false
   },
   "outputs": [
    {
     "data": {
      "application/vnd.jupyter.widget-view+json": {
       "model_id": "c6055e22ec0348c78e6dd47ca66aac87",
       "version_major": 2,
       "version_minor": 0
      },
      "text/plain": [
       "VBox(children=(GroundwaterMap(center=[-43.51876443245584, 172.66858981519297], controls=(ZoomControl(options=[…"
      ]
     },
     "metadata": {},
     "output_type": "display_data"
    }
   ],
   "source": [
    "# move the wells to redraw the drawdown contours\n",
    "superposition_fun(T=0.025)"
   ]
  },
  {
   "cell_type": "markdown",
   "id": "7ca16acd",
   "metadata": {},
   "source": [
    "## Source protection"
   ]
  },
  {
   "cell_type": "markdown",
   "id": "2414fa6a",
   "metadata": {},
   "source": [
    "Water drawn into a well is not equally sourced from all directions around it. If there is a **hydraulic gradient**, $dh/dx$, then we can think of upstream and a downstream directions from the well. Water is drawn **asymmetrically** about the well, more from one direction that the other, and this effect is exacerbated in fast moving groundwater.\n",
    "\n",
    "Nearly all groundwater originates from the ground surface. This surface water can sometimes carry **pathogens** into the aquifer. However, if we wait long enough, these pathogens will die.\n",
    "\n",
    "Different regulators have different rules about how old the water sourced from a well should be: a common requirement is 100 days. For a given time of travel, we can map the perimeter around a well from which that water could plausibly have come from. This is the **source protection zone**, and careful attention should be paid to potential sources of contamination falling within it."
   ]
  },
  {
   "cell_type": "markdown",
   "id": "37a26ac5",
   "metadata": {},
   "source": [
    "*The exercise below shows the time of travel, $t_t$ (red contour) around a moveable well. You can vary properties of the groundwater system and pumping to see how these affect the size and shape of the source protection zone. Use it to answer the following questions.*"
   ]
  },
  {
   "cell_type": "markdown",
   "id": "07e298e9",
   "metadata": {},
   "source": [
    "***1. When there is a hydraulic gradient, is a greater proportion of water drawn from the upstream or downstream direction?***\n",
    "\n",
    "***2. How does the pumping rate affect the area of the source protection zone?***\n",
    "\n",
    "***3. How does the hydraulic gradient - magnitude and direction - affect the shape of the source protection zone?***\n",
    "\n",
    "***4. How does the time of travel affect the size of the source protection zones?***\n",
    "\n",
    "***5. Environment Canterbury specifies source protection zone in terms of a distances rather than \"time of travel\". Why is this still appropriate?***"
   ]
  },
  {
   "cell_type": "code",
   "execution_count": 26,
   "id": "40caf8ad",
   "metadata": {
    "scrolled": false
   },
   "outputs": [
    {
     "data": {
      "application/vnd.jupyter.widget-view+json": {
       "model_id": "f07e27df203640ea9f27d879c8f447ff",
       "version_major": 2,
       "version_minor": 0
      },
      "text/plain": [
       "VBox(children=(GroundwaterMap(center=[-43.51876443245584, 172.66858981519297], controls=(ZoomControl(options=[…"
      ]
     },
     "metadata": {},
     "output_type": "display_data"
    }
   ],
   "source": [
    "# move the well, change the pumping rate and travel time, to redraw the source protection zone\n",
    "travel_time_fun()"
   ]
  }
 ],
 "metadata": {
  "kernelspec": {
   "display_name": "py38",
   "language": "python",
   "name": "py38"
  },
  "language_info": {
   "codemirror_mode": {
    "name": "ipython",
    "version": 3
   },
   "file_extension": ".py",
   "mimetype": "text/x-python",
   "name": "python",
   "nbconvert_exporter": "python",
   "pygments_lexer": "ipython3",
   "version": "3.8.8"
  }
 },
 "nbformat": 4,
 "nbformat_minor": 5
}
