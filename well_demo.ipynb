{
 "cells": [
  {
   "cell_type": "markdown",
   "id": "519aaf5b",
   "metadata": {},
   "source": [
    "# Locating Groundwater Wells to Avoid Hurting Rivers"
   ]
  },
  {
   "cell_type": "markdown",
   "id": "d0cafa9a",
   "metadata": {},
   "source": [
    "### The water table drops as you MOVE the wells below. INCREASE pumping to meet demand. But don't get RED on the Otakaro/Avon!"
   ]
  },
  {
   "cell_type": "code",
   "execution_count": 87,
   "id": "5e5f232d",
   "metadata": {},
   "outputs": [
    {
     "data": {
      "application/vnd.jupyter.widget-view+json": {
       "model_id": "08579a8cc6f84db5a0b1e9b733de9760",
       "version_major": 2,
       "version_minor": 0
      },
      "text/plain": [
       "VBox(children=(GroundwaterMap(center=[-43.519, 172.669], controls=(ZoomControl(options=['position', 'zoom_in_t…"
      ]
     },
     "metadata": {},
     "output_type": "display_data"
    }
   ],
   "source": [
    "from demo import placing_groundwater_wells\n",
    "placing_groundwater_wells()"
   ]
  },
  {
   "cell_type": "code",
   "execution_count": null,
   "id": "47021572",
   "metadata": {},
   "outputs": [],
   "source": [
    "# try it somewhere else\n",
    "# Adelaide - center=[-34.92, 138.6]\n",
    "# Christchurch - center=[-43.519, 172.669]\n",
    "# other options:\n",
    "# transmissivity=0.025 \n",
    "# drawdown_labels=True    (turn labels on and off)"
   ]
  }
 ],
 "metadata": {
  "kernelspec": {
   "display_name": "Python 3 (ipykernel)",
   "language": "python",
   "name": "python3"
  },
  "language_info": {
   "codemirror_mode": {
    "name": "ipython",
    "version": 3
   },
   "file_extension": ".py",
   "mimetype": "text/x-python",
   "name": "python",
   "nbconvert_exporter": "python",
   "pygments_lexer": "ipython3",
   "version": "3.9.12"
  }
 },
 "nbformat": 4,
 "nbformat_minor": 5
}
