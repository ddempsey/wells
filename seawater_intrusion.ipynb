{
 "cells": [
  {
   "cell_type": "markdown",
   "source": [
    "# Seawater intrusion"
   ],
   "metadata": {}
  },
  {
   "cell_type": "markdown",
   "source": [
    "In coastal aquifers, fresh groundwater (derived from terrestrial recharge) interacts with seawater. The location where the fresh groundwater and the seawater interact is commonly referred to as the interface. As seawater is denser than freshwater, the seawater tends to form a wedge under the freshwater. A conceptual model of an unconfined coastal aquifer is shown in Figure 1. "
   ],
   "metadata": {}
  },
  {
   "cell_type": "markdown",
   "source": [
    "<img src=\"SWI_fig_1.png\" width=\"400\"/>\r\n",
    "\r\n",
    "**Figure 1. Description of hydrogeological variables for an unconfined coastal aquifer (from Morgan et al. 2013).**"
   ],
   "metadata": {}
  },
  {
   "cell_type": "markdown",
   "source": [
    "The water budget involves net recharge to the aquifer $ W_{net} $ [L<sup>2</sup>/T]  (which accounts for infiltration, evapotranspiration and distributed pumping), flow into the aquifer through the inland boundary $ q_{b} $ [L<sup>2</sup>/T] and the flow at the coast $ q_{0} $ [L<sup>2</sup>/T]. \r\n",
    "\r\n",
    "The hydraulic head $ h_f $ [L] is related to the depth of the interface $ z $ [L] by the Ghyben-Herzberg relation $ z = h_f / δ $. Where $ δ $ [-] is the dimensionless density ratio, and $ ρ_s $ (= 1025 kg/m<sup>3</sup>) and $ ρ_f $ (= 1000 kg/m<sup>3</sup>) are freshwater and seawater densities, respectively [M/L<sup>3</sup>], so that $ δ $ = 0.025. \r\n",
    "\r\n",
    " The freshwater thickness is $ h $ [L], and the base of the aquifer is $ z_0 $ [L] below mean sea level. Zone 1 is the region inland of the saltwater wedge and Zone 2 is the region between the coast and the inland extent ($ x_T $) of the saltwater wedge. $ x_T $ is commonly referred to as the wedge toe."
   ],
   "metadata": {}
  },
  {
   "cell_type": "markdown",
   "source": [
    "We can use equations first presented by Strack (1976) and further described and developed by Werner et al. (2012), Morgan et al. (2013) and Morgan and Werner (2015) to estimate water budget components, water table height and the interface position in a coastal aquifer."
   ],
   "metadata": {}
  },
  {
   "cell_type": "markdown",
   "source": [
    "The equation for the groundwater flux at the coastline in Zone 1 is:\r\n",
    "\r\n",
    "$$\r\n",
    "  q_o =\\frac{K((h_b+z_0)^2 - (1 + \\delta)z_0^2)+W_{net}x_b^2}{2x_b}\\qquad{(\\text{Equation 1})}             \r\n",
    "$$ "
   ],
   "metadata": {}
  },
  {
   "cell_type": "markdown",
   "source": [
    "And in Zone 2 it is:\r\n",
    "\r\n",
    "$$\r\n",
    "  q_o =\\frac{1+\\delta}{\\delta}\\frac{K}{2x_b}h_b^2+\\frac{W_{net}x_b}{2}\\qquad{(\\text{Equation 2})}             \r\n",
    "$$ \r\n",
    "\r\n",
    "Here, $ K $ is the hydraulic conductivity [L/T], $ h_b $ [L] is a measured hydraulic head a distance $ x_b $ [L] from the coast, and other parameters are defined above."
   ],
   "metadata": {}
  },
  {
   "cell_type": "markdown",
   "source": [
    "\r\n",
    "Note that the choice of equation (1) or (2) for estimating $ q_0 $ depends on whether the measured $ h_b $ value occurs within Zone 1 (i.e., head measurement is inland of the interface) or Zone 2 (i.e., head measurement is above the interface). The location of the wedge toe $ x_T $ [L] is derived through considering that $ h_f = δz_0 $ at the wedge toe (can you see how this has been derived from the Ghyben-Herzberg equation?). \r\n"
   ],
   "metadata": {}
  },
  {
   "cell_type": "markdown",
   "source": [
    "Let's start by calculating the value of $ q_0 $ for an aquifer with the following properties:\r\n",
    "$ h_b = 3 $ m, $ x_b = 3500 $ m, $ K = 10 $ m/d, $ W_{net} = 20 $ mm/yr, $ z_o = 20 $ m, $ \\delta = 0.025 $."
   ],
   "metadata": {}
  },
  {
   "cell_type": "code",
   "execution_count": 58,
   "source": [
    "import numpy as np\r\n",
    "from matplotlib import pyplot as plt\r\n",
    "from ipywidgets import interact, FloatSlider\r\n",
    "%matplotlib inline"
   ],
   "outputs": [],
   "metadata": {}
  },
  {
   "cell_type": "code",
   "execution_count": 59,
   "source": [
    "# all units in m and d\r\n",
    "hb = 3.\r\n",
    "xb = 3500.\r\n",
    "K = 10.\r\n",
    "Wnet = 20.*1.e-3/365.25  # convert to m/d\r\n",
    "z0 = 20.\r\n",
    "delta = 0.025\r\n",
    "\r\n",
    "# determine whether observed data is in zone 1 or 2 and calculate q0\r\n",
    "if hb < z0 * delta:\r\n",
    "    print(\"Your observation data is in zone 2\")\r\n",
    "else:\r\n",
    "    print(\"Your observation data is in zone 1\")\r\n",
    "    \r\n",
    "# function to calculate q0 flux at the coast\r\n",
    "def q0f(K,hb,z0,Wnet,xb,delta=0.025):   \r\n",
    "    if hb < z0 * delta:\r\n",
    "        return ((1+delta)/delta)*K/(2*xb)*hb**2+Wnet*xb/2\r\n",
    "    else:\r\n",
    "        return (K*((hb+z0)**2-(1+delta)*z0**2)+Wnet*xb**2)/(2*xb)  \r\n",
    "\r\n",
    "q0 = q0f(K,hb,z0,Wnet,xb)\r\n",
    "txt = \"q\\u2080 = {:.3f} m\\u00b2/d \"    #Here using unicode for subscript and superscript\r\n",
    "\r\n",
    "print(txt.format(q0))"
   ],
   "outputs": [
    {
     "output_type": "stream",
     "name": "stdout",
     "text": [
      "Your observation data is in zone 1\n",
      "q₀ = 0.266 m²/d \n"
     ]
    }
   ],
   "metadata": {}
  },
  {
   "cell_type": "markdown",
   "source": [
    "Once we have the value of $ q_0 $, we can estimate the water table distribution, which in Zone 1 is given by:\r\n",
    "\r\n",
    "$$\r\n",
    "  h_f =\\sqrt{\\frac{2q_0x-W_{net}x^2}{K}+(1+\\delta)z_0^2}-z_0\\qquad{(\\text{Equation 3})}             \r\n",
    "$$"
   ],
   "metadata": {}
  },
  {
   "cell_type": "markdown",
   "source": [
    "And in Zone 2 it is:\r\n",
    "\r\n",
    "$$\r\n",
    "  h_f =\\sqrt{(\\frac{\\delta}{1+\\delta})\\frac{2q_0x-W_{net}x^2}{K}}\\qquad{(\\text{Equation 4})}             \r\n",
    "$$"
   ],
   "metadata": {}
  },
  {
   "cell_type": "markdown",
   "source": [
    "We can also now estimate the interface position in Zone 1 and Zone 2 using the Ghyben Herzberg relation $ z = h_f /δ $. "
   ],
   "metadata": {}
  },
  {
   "cell_type": "markdown",
   "source": [
    "And we can calculate the wedge toe position $ x_t $ by:\r\n",
    "\r\n",
    "$$\r\n",
    "  x_t =\\frac{q_0}{W_{net}}-\\sqrt{(\\frac{q_0}{W_{net}})^2-\\frac{K\\delta(1+\\delta)z_0^2}{W_{net}}}\\qquad{(\\text{Equation 5})}             \r\n",
    "$$"
   ],
   "metadata": {}
  },
  {
   "cell_type": "markdown",
   "source": [
    "And while the wedge toe is a really useful indicator of inland seawater extent, another is the volume of seawater $ V_{sw} $ [L<sup>3</sup>/L/T] per metre of coastline: \r\n",
    "\r\n",
    "$$\r\n",
    "V_{sw} = nz_0 (x_t-\\frac{x_n}{2}(\\sqrt{\\frac{1}{M}}\\arcsin\\sqrt{M}-\\sqrt{1-M}))\\qquad{(\\text{Equation 6})}\r\n",
    "$$\r\n",
    "\r\n",
    "Where $n$ [-] is porosity, $x_n = q_0/ W_{net}$ and $M$ = $K \\delta (1+ \\delta) z_0^2 / (W_{net} x_n^2)$\r\n"
   ],
   "metadata": {}
  },
  {
   "cell_type": "markdown",
   "source": [
    "Let's pull this all together to plot the water table and interface for the coastal aquifer settings given above."
   ],
   "metadata": {}
  },
  {
   "cell_type": "code",
   "execution_count": 60,
   "source": [
    "# all units in m and d\r\n",
    "hb = 3.\r\n",
    "xb = 3500.\r\n",
    "K = 10.\r\n",
    "Wnet = 20.*1.e-3/365.25  # convert to m/d\r\n",
    "z0 = 20.\r\n",
    "delta = 0.025\r\n",
    "\r\n",
    "# function to calculate q0 flux at the coast\r\n",
    "def q0f(K,hb,z0,Wnet,xb,delta=0.025):   \r\n",
    "    if hb < z0 * delta:\r\n",
    "        return ((1+delta)/delta)*K/(2*xb)*hb**2+Wnet*xb/2\r\n",
    "    else:\r\n",
    "        return (K*((hb+z0)**2-(1+delta)*z0**2)+Wnet*xb**2)/(2*xb)  \r\n",
    "\r\n",
    "q0 = q0f(K,hb,z0,Wnet,xb)\r\n",
    "\r\n",
    "# function to calculate toe position\r\n",
    "def xtf(q0,Wnet,K,z0,delta=0.025):\r\n",
    "    return q0/Wnet-np.sqrt((q0/Wnet)**2-(K*delta*(1+delta)*z0**2)/Wnet)\r\n",
    "\r\n",
    "xt = xtf(q0,Wnet,K,z0,delta=0.025)\r\n",
    "\r\n",
    "'''\r\n",
    "# calculate water table David's method\r\n",
    "def hff(x, q0, Wnet, K, z0, xt, delta=0.025):\r\n",
    "    try:\r\n",
    "        return np.array([hff(xi, q0, Wnet, K, z0, xt, delta=0.025) for xi in x])\r\n",
    "    except TypeError:\r\n",
    "        if x > xt:\r\n",
    "            return np.sqrt((2*q0*x-Wnet*x**2)/K+(1+delta)*z0**2) - z0\r\n",
    "        elif x < 0:\r\n",
    "            return 0.\r\n",
    "        else:\r\n",
    "            return np.sqrt((delta/(1+delta))*(2*q0*x-Wnet*x**2)/K)\r\n",
    "       \r\n",
    " '''\r\n",
    "#calculate water table \r\n",
    "def hff(x, q0, Wnet, K, z0, xt, delta=0.025):\r\n",
    "    hf = np.array([])  \r\n",
    "    for xi in x:\r\n",
    "        if xi > xt:\r\n",
    "            hf = np.append(hf, np.sqrt((2*q0*xi-Wnet*xi**2)/K+(1+delta)*z0**2) - z0)\r\n",
    "        elif xi < 0:\r\n",
    "            hf = np.append(hf,0.)\r\n",
    "        else:\r\n",
    "            hf = np.append(hf,np.sqrt((delta/(1+delta))*(2*q0*xi-Wnet*xi**2)/K))\r\n",
    "    return hf\r\n",
    "\r\n",
    "#calculate Vsw\r\n",
    "def Vswf(xt,q0,Wnet,K,z0,delta=0.025,n=0.3):\r\n",
    "    xn = (q0/Wnet)\r\n",
    "    M = (K  *delta*(1+ delta)*z0**2)/(Wnet*(q0/Wnet)**2)\r\n",
    "    return (n*z0*(xt-xn/2*(np.sqrt(1/M)*np.arcsin(np.sqrt(M))-np.sqrt(1-M))))\r\n",
    "    \r\n",
    "#create interface function\r\n",
    "def interface(K, Wnet, hb):\r\n",
    "    # set the parameters\r\n",
    "    Wnet *= 1.e-3/365.25\r\n",
    "    z0 = 20.\r\n",
    "    xb = 3500.\r\n",
    "    delta = 0.025\r\n",
    "    xlim = [-100,500]\r\n",
    "    x = np.linspace(*xlim, 1001)\r\n",
    "    \r\n",
    "    # calculate ground surface as 3 x water table for these numbers\r\n",
    "    h0 = 3*hff(x, q0f(20,3,z0,20*1.e-3/365.25,xb), 20*1.e-3/365.25, 20, z0, xtf(q0f(20,3,z0,20*1.e-3/365.25,xb),20*1.e-3/365.25,20,z0))\r\n",
    "    \r\n",
    "    q0 = q0f(K,hb,z0,Wnet,xb)  # calc outflow\r\n",
    "    xt = xtf(q0,Wnet,K,z0)   # calc toe\r\n",
    "    hf = hff(x, q0, Wnet, K, z0, xt)   # calc water table\r\n",
    "    Vsw = Vswf(xt,q0,Wnet,K,z0,delta=0.025,n=0.3)\r\n",
    "    \r\n",
    "\r\n",
    "    f,ax = plt.subplots(1,1,figsize=(12,6))\r\n",
    "    z = -hf/delta  # calc interface\r\n",
    "    z = np.array([np.max([-z0, zi]) for zi in z])  # truncate at aquifer base\r\n",
    "    ax.fill_between(x, 0.*z-z0, h0, color='#e1c699', alpha=0.75)  # shade land\r\n",
    "    ax.fill_between(x, z, hf, color='b', alpha=0.5)    # shade freshwater\r\n",
    "    ax.fill_between(x, 0.*z-z0, z, color='b', alpha=0.7)   # shade saltwater\r\n",
    "    ax.plot(x,hf,'k-')  # water table\r\n",
    "    ax.plot(x,z,'k-')  # interface\r\n",
    "    ax.axhline(0, color='k', linestyle='--') # horizontal line at sea level\r\n",
    "    ax.axvline(xt, color='k', linestyle='--') # vertical line dividing zones 1 and 2\r\n",
    "    ax.set_xlim(xlim[::-1])    # reverses the x-axis direction\r\n",
    "    ax.set_ylim([-z0-0.5, 3.])   # fix ylim to avoid replotting when new parameters\r\n",
    "    # add labels for key variables\r\n",
    "    ax.text(0.98,0.99,'$q_0$={:3.2f} m$^2$/d'.format(q0), size=12, ha='right', va='top', transform=ax.transAxes)\r\n",
    "    ax.text(0.98,0.94,'$x_t$={:d} m'.format(int(xt)), size=12, ha='right', va='top', transform=ax.transAxes)\r\n",
    "    ax.text(0.98,0.81,'$V\\u209B_w$={:d} m$^2$/d'.format(int(Vsw)), size=12, ha='right', va='top', transform=ax.transAxes)    \r\n",
    "    plt.show()\r\n",
    "\r\n",
    "# slider objects for varying parameters in argument of interface() function\r\n",
    "K = FloatSlider(description='K (m/d)',min=1,max=100,step=1,value=10)\r\n",
    "Wnet = FloatSlider(description='W (mm/y)',min=0.1,max=100,step=0.1,value=20)\r\n",
    "hb = FloatSlider(description='hb (m)',min=0.2,max=10,step=0.1,value=3)\r\n",
    "\r\n",
    "# sets up the interactive widget\r\n",
    "interact(interface, K=K, Wnet=Wnet, hb=hb)\r\n",
    "    \r\n",
    "\r\n",
    "        "
   ],
   "outputs": [
    {
     "output_type": "display_data",
     "data": {
      "application/vnd.jupyter.widget-view+json": {
       "version_major": 2,
       "version_minor": 0,
       "model_id": "fbd8e8fc05df403aa841b2be6e6dfd7a"
      },
      "text/plain": [
       "interactive(children=(FloatSlider(value=10.0, description='K (m/d)', min=1.0, step=1.0), FloatSlider(value=20.…"
      ]
     },
     "metadata": {}
    },
    {
     "output_type": "execute_result",
     "data": {
      "text/plain": [
       "<function __main__.interface(K, Wnet, hb)>"
      ]
     },
     "metadata": {},
     "execution_count": 60
    }
   ],
   "metadata": {}
  },
  {
   "cell_type": "markdown",
   "source": [
    "**Q1. How does changing the value of $ h_b $ influence $ q_0 $? Why is this?**\r\n",
    "\r\n",
    "**Q2. Explore the types of coastal unconfined aquifers (i.e., high versus low $ K $, high versus low $ W_{net} $, high versus low $ x_b $) that will have largest inland seawater extent, under natural conditions?**"
   ],
   "metadata": {}
  },
  {
   "cell_type": "markdown",
   "source": [
    "## References\r\n",
    "\r\n",
    "\r\n",
    "Morgan, L.K., Werner, A.D., Morris, M.J., Teubner, M., 2013. Application of a Rapid-Assessment Method for Seawater Intrusion Vulnerability: Willunga Basin, South Australia. In Wetzelhuetter C (Ed.) Groundwater in the Coastal Zones of Asia-Pacific: 205-225.Springer Science & Business Media. http://dx.doi.org/10.1007/978-94-007-5648-9_10.\r\n",
    "\r\n",
    "Morgan, L.K., Werner, A.D., 2015. A national inventory of seawater intrusion vulnerability for Australia. Journal of Hydrology: Regional Studies 4: 686-698. http://dx.doi.org/10.1016/j.ejrh.2015.10.005.\r\n",
    "\r\n",
    "Strack, O.D.L., 1976. Single-potential solution for regional interface problems in coastal aquifers, Water Resources Research 12: 1165-1174.\r\n",
    "\r\n",
    "Werner, A.D., Ward, J.D., Morgan, L.K., Simmons, C.T., Robinson, N.I., Teubner, M.D., 2012. Vulnerability indicators of seawater intrusion. Ground Water 50(1): 48-58.\r\n"
   ],
   "metadata": {}
  }
 ],
 "metadata": {
  "interpreter": {
   "hash": "55e4d151a7554bec9feed62e45aeb824894b511c9803403d648fad072eb1bd08"
  },
  "kernelspec": {
   "name": "python3",
   "display_name": "Python 3.7.9 64-bit ('wells': conda)"
  },
  "language_info": {
   "codemirror_mode": {
    "name": "ipython",
    "version": 3
   },
   "file_extension": ".py",
   "mimetype": "text/x-python",
   "name": "python",
   "nbconvert_exporter": "python",
   "pygments_lexer": "ipython3",
   "version": "3.7.9"
  }
 },
 "nbformat": 4,
 "nbformat_minor": 5
}