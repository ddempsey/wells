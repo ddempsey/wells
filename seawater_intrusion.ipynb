{
 "cells": [
  {
   "cell_type": "markdown",
   "source": [
    "# Seawater intrusion"
   ],
   "metadata": {}
  },
  {
   "cell_type": "markdown",
   "source": [
    "In coastal aquifers, fresh groundwater (derived from terrestrial recharge) interacts with seawater. The location where the fresh groundwater and the seawater interact is commonly referred to as the interface. As seawater is denser than freshwater, the seawater tends to form a wedge under the freshwater. A conceptual model of an unconfined coastal aquifer is shown in Figure 1. "
   ],
   "metadata": {}
  },
  {
   "cell_type": "markdown",
   "source": [
    "<img src=\"SWI_fig_1.png\" width=\"500\"/>\r\n",
    "\r\n",
    "**Figure 1. Description of hydrogeological variables for an unconfined coastal aquifer (from Morgan et al. 2013).**"
   ],
   "metadata": {}
  },
  {
   "cell_type": "markdown",
   "source": [
    "The water budget involves net recharge to the aquifer $ W_{net} $ [L<sup>2</sup>/T]  (which accounts for infiltration, evapotranspiration and distributed pumping), flow into the aquifer through the inland boundary $ q_{b} $ [L<sup>2</sup>/T] and the flow at the coast $ q_{0} $ [L<sup>2</sup>/T]. "
   ],
   "metadata": {}
  },
  {
   "cell_type": "markdown",
   "source": [
    "The hydraulic head $ h_f $ [L] is related to the depth of the interface $ z $ [L] by the Ghyben-Herzberg relation $ z = h_f / δ $. Where $ δ $ [-] is the dimensionless density ratio, and $ ρ_s $ (= 1025 kg/m<sup>3</sup>) and $ ρ_f $ (= 1000 kg/m<sup>3</sup>) are freshwater and seawater densities, respectively [M/L<sup>3</sup>], so that $ δ $ = 0.025. "
   ],
   "metadata": {}
  },
  {
   "cell_type": "markdown",
   "source": [
    " The freshwater thickness is $ h $ [L], and the base of the aquifer is $ z_0 $ [L] below mean sea level. Zone 1 is the region inland of the saltwater wedge and Zone 2 is the region between the coast and the inland extent ($ x_T $) of the saltwater wedge. $ x_T $ is commonly referred to as the wedge toe."
   ],
   "metadata": {}
  },
  {
   "cell_type": "code",
   "execution_count": 3,
   "source": [
    "import numpy as np\r\n",
    "from matplotlib import pyplot as plt\r\n",
    "from ipywidgets import interact, FloatSlider\r\n",
    "%matplotlib inline"
   ],
   "outputs": [],
   "metadata": {}
  },
  {
   "cell_type": "code",
   "execution_count": 4,
   "source": [
    "# all units in m and d\r\n",
    "K = 10.\r\n",
    "Wnet = 20.*1.e-3/365.25  # convert to m/d\r\n",
    "z0 = 20.\r\n",
    "hb = 3.\r\n",
    "xb = 3500.\r\n",
    "delta = 0.025\r\n",
    "\r\n",
    "# determine whether observed data is in zone 1 or 2 and calculate q0\r\n",
    "if hb < z0 * delta:\r\n",
    "    print(\"Observation data is in zone 2\")\r\n",
    "else:\r\n",
    "    print(\"Observation data is in zone 1\")\r\n",
    "    \r\n",
    "# function to calculate q0 flux at the coast\r\n",
    "def q0f(K,hb,z0,Wnet,xb,delta=0.025):   \r\n",
    "    if hb < z0 * delta:\r\n",
    "        return ((1+delta)/delta)*K/(2*xb)*hb**2+Wnet*xb/2\r\n",
    "    else:\r\n",
    "        return (K*((hb+z0)**2-(1+delta)*z0**2)+Wnet*xb**2)/(2*xb)  \r\n",
    "\r\n",
    "# function to calculate toe position\r\n",
    "def xtf(q0,Wnet,K,z0,delta=0.025):\r\n",
    "    return q0/Wnet-np.sqrt((q0/Wnet)**2-(K*delta*(1+delta)*z0**2)/Wnet)\r\n",
    "\r\n",
    "# calculate water table (assumes unconfined->quadratic? same result for confined?)\r\n",
    "def hff(x, q0, Wnet, K, z0, xt, delta=0.025):\r\n",
    "    try:\r\n",
    "        return np.array([hff(xi, q0, Wnet, K, z0, xt, delta=0.025) for xi in x])\r\n",
    "    except TypeError:\r\n",
    "        if x > xt:\r\n",
    "            return np.sqrt((2*q0*x-Wnet*x**2)/K+(1+delta)*z0**2) - z0\r\n",
    "        elif x < 0:\r\n",
    "            return 0.\r\n",
    "        else:\r\n",
    "            return np.sqrt((delta/(1+delta))*(2*q0*x-Wnet*x**2)/K)\r\n",
    "            \r\n",
    "q0 = q0f(K,hb,z0,Wnet,xb)\r\n",
    "xt = xtf(q0f(K,hb,z0,Wnet,xb),Wnet,K,z0)\r\n",
    "print('q0 =',q0)\r\n",
    "print('xt =',xt)\r\n",
    "print(hff(xt, q0, Wnet, K, z0, xt)/delta, z0)\r\n",
    "\r\n",
    "x = np.linspace(-0.3*xt, 2*xt, 1001)\r\n",
    "f,ax = plt.subplots(1,1,figsize=(12,6))\r\n",
    "hf = hff(x, q0, Wnet, K, z0, xt)\r\n",
    "z = -hf/delta\r\n",
    "z = np.array([np.max([-z0, zi]) for zi in z])\r\n",
    "ax.fill_between(x, z, hf, color='b', alpha=0.5)\r\n",
    "ax.fill_between(x, 0.*z-z0, z, color='b', alpha=0.7)\r\n",
    "ax.plot(x,hf,'k-')\r\n",
    "ax.plot(x,z,'k-')  # interface\r\n",
    "ax.axhline(0, color='k', linestyle='--') # horizontal line at sea level\r\n",
    "ax.axvline(xt, color='k', linestyle='--') # vertical line dividing zones 1 and 2\r\n",
    "ax.invert_xaxis()\r\n"
   ],
   "outputs": [
    {
     "output_type": "stream",
     "name": "stdout",
     "text": [
      "Observation data is in zone 1\n",
      "q0 = 0.2658247775496236\n",
      "xt = 196.78455182822927\n",
      "19.999999999999993 20.0\n"
     ]
    },
    {
     "output_type": "display_data",
     "data": {
      "image/png": "[encoded data removed]",
      "text/plain": [
       "<Figure size 864x432 with 1 Axes>"
      ]
     },
     "metadata": {
      "needs_background": "light"
     }
    }
   ],
   "metadata": {}
  },
  {
   "cell_type": "code",
   "execution_count": 5,
   "source": [
    "def interface(K, Wnet, hb):\r\n",
    "\r\n",
    "    # set the parameters\r\n",
    "    Wnet *= 1.e-3/365.25\r\n",
    "    z0 = 20.\r\n",
    "    xb = 3500.\r\n",
    "    delta = 0.025\r\n",
    "    xlim = [-100,500]\r\n",
    "    x = np.linspace(*xlim, 1001)\r\n",
    "    \r\n",
    "    # calculate ground surface as 3 x water table for these numbers\r\n",
    "    h0 = 3*hff(x, q0f(20,3,z0,20*1.e-3/365.25,xb), 20*1.e-3/365.25, 20, z0, xtf(q0f(20,3,z0,20*1.e-3/365.25,xb),20*1.e-3/365.25,20,z0))\r\n",
    "    \r\n",
    "    q0 = q0f(K,hb,z0,Wnet,xb)  # calc outflow\r\n",
    "    xt = xtf(q0,Wnet,K,z0)   # calc toe\r\n",
    "    hf = hff(x, q0, Wnet, K, z0, xt)   # calc water table\r\n",
    "\r\n",
    "    f,ax = plt.subplots(1,1,figsize=(12,6))\r\n",
    "    z = -hf/delta  # calc interface\r\n",
    "    z = np.array([np.max([-z0, zi]) for zi in z])  # truncate at aquifer base\r\n",
    "    ax.fill_between(x, 0.*z-z0, h0, color='#e1c699', alpha=0.75)  # shade land\r\n",
    "    ax.fill_between(x, z, hf, color='b', alpha=0.5)    # shade freshwater\r\n",
    "    ax.fill_between(x, 0.*z-z0, z, color='b', alpha=0.7)   # shade saltwater\r\n",
    "    ax.plot(x,hf,'k-')  # water table\r\n",
    "    ax.plot(x,z,'k-')  # interface\r\n",
    "    ax.axhline(0, color='k', linestyle='--') # horizontal line at sea level\r\n",
    "    ax.axvline(xt, color='k', linestyle='--') # vertical line dividing zones 1 and 2\r\n",
    "    ax.set_xlim(xlim[::-1])    # reverses the x-axis direction\r\n",
    "    ax.set_ylim([-z0-0.5, 3.])   # fix ylim to avoid replotting when new parameters\r\n",
    "    # add labels for key variables\r\n",
    "    ax.text(0.98,0.99,'$q_0$={:3.2f} m$^2$/d'.format(q0), size=12, ha='right', va='top', transform=ax.transAxes)\r\n",
    "    ax.text(0.98,0.94,'$x_t$={:d} m'.format(int(xt)), size=12, ha='right', va='top', transform=ax.transAxes)\r\n",
    "    plt.show()\r\n",
    "\r\n",
    "# slider objects for varying parameters in argument of interface() function\r\n",
    "K = FloatSlider(min=5,max=40,step=5,value=10)\r\n",
    "Wnet = FloatSlider(min=5,max=40,step=5,value=20)\r\n",
    "hb = FloatSlider(min=0.5,max=10,step=0.5,value=3)\r\n",
    "\r\n",
    "# sets up the interactive widget\r\n",
    "interact(interface, K=K, Wnet=Wnet, hb=hb)"
   ],
   "outputs": [
    {
     "output_type": "display_data",
     "data": {
      "application/vnd.jupyter.widget-view+json": {
       "version_major": 2,
       "version_minor": 0,
       "model_id": "f51e23f606ac44b0b2dfb6ceb98a3078"
      },
      "text/plain": [
       "interactive(children=(FloatSlider(value=10.0, description='K', max=40.0, min=5.0, step=5.0), FloatSlider(value…"
      ]
     },
     "metadata": {}
    },
    {
     "output_type": "execute_result",
     "data": {
      "text/plain": [
       "<function __main__.interface(K, Wnet, hb)>"
      ]
     },
     "metadata": {},
     "execution_count": 5
    }
   ],
   "metadata": {}
  }
 ],
 "metadata": {
  "kernelspec": {
   "name": "python3",
   "display_name": "Python 3.7.9 64-bit ('wells': conda)"
  },
  "language_info": {
   "codemirror_mode": {
    "name": "ipython",
    "version": 3
   },
   "file_extension": ".py",
   "mimetype": "text/x-python",
   "name": "python",
   "nbconvert_exporter": "python",
   "pygments_lexer": "ipython3",
   "version": "3.7.9"
  },
  "interpreter": {
   "hash": "55e4d151a7554bec9feed62e45aeb824894b511c9803403d648fad072eb1bd08"
  }
 },
 "nbformat": 4,
 "nbformat_minor": 5
}