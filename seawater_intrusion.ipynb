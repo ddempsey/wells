{
 "cells": [
  {
   "cell_type": "code",
   "execution_count": 31,
   "id": "935a3c15",
   "metadata": {},
   "outputs": [],
   "source": [
    "import numpy as np\n",
    "from matplotlib import pyplot as plt\n",
    "from ipywidgets import interact, FloatSlider\n",
    "%matplotlib inline"
   ]
  },
  {
   "cell_type": "code",
   "execution_count": 30,
   "id": "adda7565",
   "metadata": {},
   "outputs": [
    {
     "name": "stdout",
     "output_type": "stream",
     "text": [
      "q0 = 0.4358247775496237 , Leanne solution = 0.27?\n",
      "xt = 238.76762760253405\n",
      "19.999999999999993 20.0\n"
     ]
    },
    {
     "data": {
      "image/png": "[encoded data removed]",
      "text/plain": [
       "<Figure size 864x432 with 1 Axes>"
      ]
     },
     "metadata": {
      "needs_background": "light"
     },
     "output_type": "display_data"
    }
   ],
   "source": [
    "# all units in m and d\n",
    "K = 20.\n",
    "Wnet = 20.*1.e-3/365.25  # convert to m/d\n",
    "z0 = 20.\n",
    "hb = 3.\n",
    "xb = 3500.\n",
    "delta = 0.025\n",
    "\n",
    "# calculate toe position\n",
    "def xtf(q0,Wnet,K,z0,delta=0.025):\n",
    "    return q0/Wnet-np.sqrt((q0/Wnet)**2-(K*delta*(1+delta)*z0**2)/Wnet)\n",
    "\n",
    "def q0f(K,hb,z0,Wnet,xb,delta=0.025):\n",
    "    # compute two options for q0\n",
    "    q0s = ((K*((hb+z0)**2-(1+delta)*z0**2)+Wnet*xb**2)/(2*xb),((1+delta)/delta)*K/(2*xb)*hb**2+Wnet*xb/2)\n",
    "    # compute two options for wedge toe\n",
    "    xts = [xtf(q0,Wnet,K,z0) for q0 in q0s]\n",
    "    # determine which value of q0 to return\n",
    "    if all([xb>xt for xt in xts]):\n",
    "        return q0s[0]\n",
    "    else:\n",
    "        return q0s[1]\n",
    "\n",
    "# calculate water table (assumes unconfined->quadratic? same result for confined?)\n",
    "def hff(x, q0, Wnet, K, z0, xt, delta=0.025):\n",
    "    try:\n",
    "        return np.array([hff(xi, q0, Wnet, K, z0, xt, delta=0.025) for xi in x])\n",
    "    except TypeError:\n",
    "        if x > xt:\n",
    "            return np.sqrt((2*q0*x-Wnet*x**2)/K+(1+delta)*z0**2) - z0\n",
    "        elif x < 0:\n",
    "            return 0.\n",
    "        else:\n",
    "            return np.sqrt((delta/(1+delta))*(2*q0*x-Wnet*x**2)/K)\n",
    "            \n",
    "q0 = q0f(K,hb,z0,Wnet,xb)\n",
    "xt = xtf(q0f(K,hb,z0,Wnet,xb),Wnet,K,z0)\n",
    "print('q0 =',q0,', Leanne solution = 0.27?')\n",
    "print('xt =',xt)\n",
    "print(hff(xt, q0, Wnet, K, z0, xt)/delta, z0)\n",
    "\n",
    "x = np.linspace(-0.3*xt, 2*xt, 1001)\n",
    "f,ax = plt.subplots(1,1,figsize=(12,6))\n",
    "hf = hff(x, q0, Wnet, K, z0, xt)\n",
    "z = -hf/delta\n",
    "z = np.array([np.max([-z0, zi]) for zi in z])\n",
    "ax.fill_between(x, z, hf, color='b', alpha=0.5)\n",
    "ax.fill_between(x, 0.*z-z0, z, color='b', alpha=0.7)\n",
    "ax.plot(x,hf,'k-')\n",
    "ax.plot(x,z,'k-')  # interface\n",
    "ax.axhline(0, color='k', linestyle='--') # horizontal line at sea level\n",
    "ax.axvline(xt, color='k', linestyle='--') # vertical line dividing zones 1 and 2\n",
    "ax.invert_xaxis()\n"
   ]
  },
  {
   "cell_type": "code",
   "execution_count": 51,
   "id": "10e5b957",
   "metadata": {},
   "outputs": [
    {
     "data": {
      "application/vnd.jupyter.widget-view+json": {
       "model_id": "afe09fbdc05d4b6187b86c8811013a44",
       "version_major": 2,
       "version_minor": 0
      },
      "text/plain": [
       "interactive(children=(FloatSlider(value=20.0, description='K', max=40.0, min=5.0, step=5.0), FloatSlider(value…"
      ]
     },
     "metadata": {},
     "output_type": "display_data"
    },
    {
     "data": {
      "text/plain": [
       "<function __main__.interface(K, Wnet, hb)>"
      ]
     },
     "execution_count": 51,
     "metadata": {},
     "output_type": "execute_result"
    }
   ],
   "source": [
    "def interface(K, Wnet, hb):\n",
    "\n",
    "    # set the parameters\n",
    "    Wnet *= 1.e-3/365.25\n",
    "    z0 = 20.\n",
    "    xb = 3500.\n",
    "    delta = 0.025\n",
    "    xlim = [-100,500]\n",
    "    x = np.linspace(*xlim, 1001)\n",
    "    \n",
    "    # calculate ground surface as 3 x water table for these numbers\n",
    "    h0 = 3*hff(x, q0f(20,3,z0,20*1.e-3/365.25,xb), 20*1.e-3/365.25, 20, z0, xtf(q0f(20,3,z0,20*1.e-3/365.25,xb),20*1.e-3/365.25,20,z0))\n",
    "    \n",
    "    q0 = q0f(K,hb,z0,Wnet,xb)  # calc outflow\n",
    "    xt = xtf(q0,Wnet,K,z0)   # calc toe\n",
    "    hf = hff(x, q0, Wnet, K, z0, xt)   # calc water table\n",
    "\n",
    "    f,ax = plt.subplots(1,1,figsize=(12,6))\n",
    "    z = -hf/delta  # calc interface\n",
    "    z = np.array([np.max([-z0, zi]) for zi in z])  # truncate at aquifer base\n",
    "    ax.fill_between(x, 0.*z-z0, h0, color='#e1c699', alpha=0.75)  # shade land\n",
    "    ax.fill_between(x, z, hf, color='b', alpha=0.5)    # shade freshwater\n",
    "    ax.fill_between(x, 0.*z-z0, z, color='b', alpha=0.7)   # shade saltwater\n",
    "    ax.plot(x,hf,'k-')  # water table\n",
    "    ax.plot(x,z,'k-')  # interface\n",
    "    ax.axhline(0, color='k', linestyle='--') # horizontal line at sea level\n",
    "    ax.axvline(xt, color='k', linestyle='--') # vertical line dividing zones 1 and 2\n",
    "    ax.set_xlim(xlim[::-1])    # reverses the x-axis direction\n",
    "    ax.set_ylim([-z0-0.5, 3.])   # fix ylim to avoid replotting when new parameters\n",
    "    # add labels for key variables\n",
    "    ax.text(0.98,0.99,'$q_0$={:3.2f} m$^2$/d'.format(q0), size=12, ha='right', va='top', transform=ax.transAxes)\n",
    "    ax.text(0.98,0.94,'$x_t$={:d} m'.format(int(xt)), size=12, ha='right', va='top', transform=ax.transAxes)\n",
    "    plt.show()\n",
    "\n",
    "# slider objects for varying parameters in argument of interface() function\n",
    "K = FloatSlider(min=5,max=40,step=5,value=20)\n",
    "Wnet = FloatSlider(min=5,max=40,step=5,value=20)\n",
    "hb = FloatSlider(min=0.5,max=10,step=0.5,value=3)\n",
    "\n",
    "# sets up the interactive widget\n",
    "interact(interface, K=K, Wnet=Wnet, hb=hb)"
   ]
  }
 ],
 "metadata": {
  "kernelspec": {
   "display_name": "Python 3",
   "language": "python",
   "name": "python3"
  },
  "language_info": {
   "codemirror_mode": {
    "name": "ipython",
    "version": 3
   },
   "file_extension": ".py",
   "mimetype": "text/x-python",
   "name": "python",
   "nbconvert_exporter": "python",
   "pygments_lexer": "ipython3",
   "version": "3.8.8"
  }
 },
 "nbformat": 4,
 "nbformat_minor": 5
}
