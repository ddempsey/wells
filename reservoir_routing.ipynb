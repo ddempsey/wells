{
 "cells": [
  {
   "cell_type": "markdown",
   "id": "94962639",
   "metadata": {},
   "source": [
    "# Reservoir routing"
   ]
  },
  {
   "cell_type": "markdown",
   "id": "e2c30d8a",
   "metadata": {},
   "source": [
    "This short exercise is intended to illustrate the different aspects of a reservoir, using Python to solve the storage equation. It is based on the example below from Hingray (2015) \n",
    "\n",
    "<img src=\"img/reservoir.png\" alt=\"drawing\" width=\"400\"/>\n"
   ]
  },
  {
   "cell_type": "markdown",
   "id": "faf253d0",
   "metadata": {},
   "source": [
    "## Storage\n",
    "\n",
    "The image above shows a detention basin with a rectangular cross section. In class, we calculated that its cross-sectional surface area, $A$, depends on the depth of water, $h$, as\n",
    "\n",
    "$$A=2000+560h+32h^2.$$\n",
    "\n",
    "We can get the storage volume, $S$, by integrating area over $h$\n",
    "\n",
    "$$S=2000h+280h^2+32/3h^3.$$\n",
    "\n",
    "***Exercise 1: in the cell below, complete the functions for $A$ and $S$, and plot their values for $h$ from 0 to 5 m.***"
   ]
  },
  {
   "cell_type": "code",
   "execution_count": null,
   "id": "78b0e35d",
   "metadata": {},
   "outputs": [],
   "source": [
    "%matplotlib inline\n",
    "import numpy as np\n",
    "from matplotlib import pyplot as plt\n",
    "\n",
    "# complete the functions below\n",
    "def Af(h):    \n",
    "    A=2000+560*h         # complete the calculation for area A\n",
    "    return A\n",
    "\n",
    "def Sf(h):\n",
    "    S=2000*h              # complete the calculation for storage S\n",
    "    return S\n",
    "\n",
    "# plotting, don't change these commands\n",
    "f,ax=plt.subplots(1,1)\n",
    "h=np.linspace(0,5,101)\n",
    "ax.plot(h,Af(h),'k-',label='area')\n",
    "ax_=ax.twinx()\n",
    "ax_.plot(h,Sf(h),'k--')\n",
    "ax.plot([],[],'k--',label='storage')\n",
    "ax.set_ylabel('area [m^2]')\n",
    "ax_.set_ylabel('storage [m^3]')\n",
    "ax.set_xlabel('water depth [m]')\n",
    "ax.legend()"
   ]
  },
  {
   "cell_type": "markdown",
   "id": "9e16e831",
   "metadata": {},
   "source": [
    "## Reservoir outflow\n",
    "\n",
    "The reservoir has two discharge sites:\n",
    "1. An orifice at its base, with diameter $d$=0.45 m and discharge coefficient, $C_0$=0.8.\n",
    "2. An overflow spillway of length $L$=3.5m and discharge coefficient, $C_s$=3.0. The crest of the spillway is $h_c$=5 m.\n",
    "\n",
    "Total discharge from the reservoir is written\n",
    "\n",
    "$$ Q = C_0 \\frac{\\pi d^2}{4}\\sqrt{2gh}+C_s L(h-h_c)^{3/2}$$\n",
    "\n",
    "where the second term is only included for $h>h_c$.\n",
    "\n",
    "***Exercise 2: in the cell below, complete the function for $Q$, and plot its value for $h$ from 0 to 5.5 m.***"
   ]
  },
  {
   "cell_type": "code",
   "execution_count": null,
   "id": "d18aafb4",
   "metadata": {},
   "outputs": [],
   "source": [
    "%matplotlib inline\n",
    "import numpy as np\n",
    "from matplotlib import pyplot as plt\n",
    "\n",
    "# complete the function below\n",
    "def _Qf(h): \n",
    "    Q=0.8                # complete the expression\n",
    "    if h>hc:\n",
    "        Q=Q+Cs          # complete the expression\n",
    "    return Q\n",
    "\n",
    "# this function vectorizes _Qf, don't modify it\n",
    "def Qf(h):\n",
    "    try:\n",
    "        return np.array([_Qf(hi) for hi in h])\n",
    "    except TypeError:\n",
    "        return _Qf(h)\n",
    "    \n",
    "# plotting, don't change these commands\n",
    "f,ax=plt.subplots(1,1)\n",
    "h=np.linspace(0,5.5,101)\n",
    "ax.plot(h,Qf(h),'k-')\n",
    "ax.set_ylabel('outflow [m^3/s]')\n",
    "ax.set_xlabel('water depth [m]')"
   ]
  },
  {
   "cell_type": "markdown",
   "id": "5bbf77cf",
   "metadata": {},
   "source": [
    "## Solve the Reservoir Routing Equation\n",
    "\n",
    "Reservoir routing balances inflows and outflow against changes in storage. We can write an equation for change in water depth as\n",
    "\n",
    "$$ \\frac{dh}{dt} = \\frac{I(t)-Q(h)}{A(h)}$$\n",
    "\n",
    "where $I(t)$ is the inflow hydrograph.\n",
    "\n",
    "***Exercise 3: in the cell below, complete the function for $dhdt$. Hence, solve the routing equation for the given inflow hydrograph.***"
   ]
  },
  {
   "cell_type": "code",
   "execution_count": null,
   "id": "159cd244",
   "metadata": {},
   "outputs": [],
   "source": [
    "# inflow hydrograph function - don't change this\n",
    "ti=np.array([0,30,60,90,120,150,180,210,240,270,300,330,360,390])*60.\n",
    "Ii=np.array([0,2.4,5.6,3.4,2.8,2.4,2.2,1.8,1.5,1.2,1,0.56,0.34,0])\n",
    "def If(t):\n",
    "    return np.interp(t,ti,Ii)\n",
    "\n",
    "# complete the inflow hydrograph function, using the previously defined functions, If, Qf and Af\n",
    "def dhdtf(t,h): \n",
    "    dhdt=0.     # change this expression\n",
    "    return dhdt\n",
    "\n",
    "# solve the reservoir routing problem - don't change this\n",
    "from scipy.integrate import solve_ivp\n",
    "out=solve_ivp(dhdtf, t_span=(ti[0], ti[-1]*1.5), y0=[0.], t_eval=np.linspace(ti[0], ti[-1]*1.5,1000), method='BDF')\n",
    "t, h=out.t, out.y[0,:]\n",
    "f,ax=plt.subplots(1,1)\n",
    "ax.plot(t/3600, h, 'g-')\n",
    "ax.set_xlabel('time [h]')\n",
    "ax.set_ylabel('water level [m]')"
   ]
  },
  {
   "cell_type": "markdown",
   "id": "ef13a06b",
   "metadata": {},
   "source": [
    "## Analysing reservoir behaviour\n",
    "\n",
    "When a reservoir is routing a flow, many things are changing at once: inflow, outflow, storage, water depth. \n",
    "\n",
    "***Exercise 4: run the cell below and answer the following questions.***\n",
    "\n",
    "1. ***When does the spillway activate?***\n",
    "2. ***When does the reservoir switch from filling to emptying?***\n",
    "3. ***Does the reservoir provide flood protection?***\n",
    "4. ***Double the size of the storm by changing the inflow hydrograph function to ```np.interp(t,ti,Ii)*2``` in the cell above. Then rerun that cell AND the one below. How does the reservoir respond?***"
   ]
  },
  {
   "cell_type": "code",
   "execution_count": null,
   "id": "b700fbe8",
   "metadata": {},
   "outputs": [],
   "source": [
    "# don't change the code below\n",
    "f,(ax,ax2)=plt.subplots(1,2,figsize=(10,5))\n",
    "ax.plot(t/3600, If(t),'b-',label='inflow')\n",
    "ax.plot(t/3600, Qf(h), 'r-', label='outflow')\n",
    "ax.set_ylabel('flow rate [m^3/s]')\n",
    "ax.set_xlabel('time [h]')\n",
    "ax.legend()\n",
    "\n",
    "ax2.plot(t/3600, Sf(h), 'k-', label='stored water')\n",
    "ax2.plot(t/3600, np.cumsum(If(t))*(t[1]-t[0]), 'k:', label='cumulative inflow')\n",
    "ax2.plot(t/3600, np.cumsum(Qf(h))*(t[1]-t[0]), 'k--', label='cumulative outflow')\n",
    "ax2.set_ylabel('water volume [m^3]')\n",
    "ax2.set_xlabel('time [h]')\n",
    "ax2.legend()\n",
    "plt.tight_layout()"
   ]
  },
  {
   "cell_type": "markdown",
   "id": "c3ffc191",
   "metadata": {},
   "source": [
    "## Solutions\n",
    "\n",
    "If you're struggling to complete the exercises above, completed functions are available below."
   ]
  },
  {
   "cell_type": "code",
   "execution_count": null,
   "id": "03bc8368",
   "metadata": {},
   "outputs": [],
   "source": [
    "## Exercise 1\n",
    "def Af(h):    \n",
    "    A=2000+560*h+32*h**2    # complete the calculation for area A\n",
    "    return A\n",
    "\n",
    "def Sf(h):\n",
    "    S=2000*h+280*h**2+32/3*h**3   # complete the calculation for storage S\n",
    "    return S\n",
    "\n",
    "## Exercise 2\n",
    "def _Qf(h):              \n",
    "    Q=0.8*3.142*0.45**2/4*np.sqrt(2*9.81*h)   # complete the expression\n",
    "    if h>5.0: \n",
    "        Q=Q+3.0*3.5*(h-5)**1.5     # complete the expression\n",
    "    return Q\n",
    "\n",
    "## Exercise 3\n",
    "def dhdtf(t,h): \n",
    "    dhdt=(If(t)-Qf(h))/Af(h)       # change this expression\n",
    "    return dhdt\n"
   ]
  }
 ],
 "metadata": {
  "kernelspec": {
   "display_name": "Python 3",
   "language": "python",
   "name": "python3"
  },
  "language_info": {
   "codemirror_mode": {
    "name": "ipython",
    "version": 3
   },
   "file_extension": ".py",
   "mimetype": "text/x-python",
   "name": "python",
   "nbconvert_exporter": "python",
   "pygments_lexer": "ipython3",
   "version": "3.7.9"
  }
 },
 "nbformat": 4,
 "nbformat_minor": 5
}
