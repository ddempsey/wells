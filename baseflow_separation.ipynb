{
 "cells": [
  {
   "cell_type": "markdown",
   "id": "f5ad9beb",
   "metadata": {},
   "source": [
    "# Baseflow separation"
   ]
  },
  {
   "cell_type": "markdown",
   "id": "b735ae0a",
   "metadata": {},
   "source": [
    "## Digital Filter method\n",
    "\n",
    "Run the code below by highlighting the cell and hitting ***Ctrl+Enter***. Use the slider to change the filter parameter."
   ]
  },
  {
   "cell_type": "code",
   "execution_count": null,
   "id": "07efa28f",
   "metadata": {},
   "outputs": [],
   "source": [
    "import numpy as np\n",
    "from matplotlib import pyplot as plt\n",
    "%matplotlib inline\n",
    "def plot_BF(alpha):\n",
    "    Q = np.array([6,970,707,400,254,162,121,91,79,68,58,50,43,37])\n",
    "    def filter(Q,alpha):\n",
    "        R = 0.*Q\n",
    "        for i in range(1,len(R)):\n",
    "            R[i]=np.min([np.max([alpha*R[i-1]+(1+alpha)/2.*(Q[i]-Q[i-1]),0]),Q[i]])\n",
    "        return Q-R\n",
    "\n",
    "    f,(ax1,ax2)=plt.subplots(1,2,figsize=(12,6))\n",
    "    t = np.arange(1, len(Q)+1)\n",
    "    B = filter(Q,alpha)\n",
    "    ax1.plot(t, Q, 'k-', label='runoff')\n",
    "    ax1.plot(t, B, 'b-', label='baseflow')\n",
    "    ax2.fill_between(t, B, Q, color='k', alpha=0.5)\n",
    "    ax2.fill_between(t, 0*B, B, color='b', alpha=0.5)\n",
    "    ax1.legend()\n",
    "    ax1.set_xlabel('time')\n",
    "    ax1.set_ylabel('flow')\n",
    "    plt.show()\n",
    "    \n",
    "from ipywidgets import interact, FloatSlider\n",
    "interact(plot_BF, alpha=FloatSlider(min=0.7,max=0.95,step=0.05, value=0.85))"
   ]
  }
 ],
 "metadata": {
  "kernelspec": {
   "display_name": "Python 3",
   "language": "python",
   "name": "python3"
  },
  "language_info": {
   "codemirror_mode": {
    "name": "ipython",
    "version": 3
   },
   "file_extension": ".py",
   "mimetype": "text/x-python",
   "name": "python",
   "nbconvert_exporter": "python",
   "pygments_lexer": "ipython3",
   "version": "3.8.8"
  }
 },
 "nbformat": 4,
 "nbformat_minor": 5
}
