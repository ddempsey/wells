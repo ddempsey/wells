{
 "cells": [
  {
   "cell_type": "code",
   "execution_count": null,
   "id": "5e5f232d",
   "metadata": {},
   "outputs": [],
   "source": [
    "from travel_time import superposition_fun, travel_time_fun"
   ]
  },
  {
   "cell_type": "code",
   "execution_count": 90,
   "id": "0ee17cab",
   "metadata": {},
   "outputs": [
    {
     "data": {
      "application/vnd.jupyter.widget-view+json": {
       "model_id": "3495b1e62d5345f69671caced663ed6e",
       "version_major": 2,
       "version_minor": 0
      },
      "text/plain": [
       "Map(center=[-43.51876443245584, 172.66858981519297], controls=(ZoomControl(options=['position', 'zoom_in_text'…"
      ]
     },
     "metadata": {},
     "output_type": "display_data"
    }
   ],
   "source": [
    "# move the wells to redraw the drawdown contours\n",
    "superposition_fun()"
   ]
  },
  {
   "cell_type": "code",
   "execution_count": 85,
   "id": "40caf8ad",
   "metadata": {
    "scrolled": false
   },
   "outputs": [
    {
     "data": {
      "application/vnd.jupyter.widget-view+json": {
       "model_id": "4e4f0b45429f43c28b3cf0c0f77b7462",
       "version_major": 2,
       "version_minor": 0
      },
      "text/plain": [
       "VBox(children=(Map(center=[-43.51876443245584, 172.66858981519297], controls=(ZoomControl(options=['position',…"
      ]
     },
     "metadata": {},
     "output_type": "display_data"
    },
    {
     "name": "stderr",
     "output_type": "stream",
     "text": [
      "C:\\Users\\dde62\\code\\wells\\travel_time.py:39: RuntimeWarning: divide by zero encountered in true_divide\n",
      "  return np.array([np.min([(b/a)[0], 1.e20]),])\n",
      "C:\\Users\\dde62\\code\\wells\\travel_time.py:52: RuntimeWarning: divide by zero encountered in true_divide\n",
      "  return np.array([np.min([((a*dbdx-b*dadx)/a**2)[0], 1.e20]),])\n"
     ]
    }
   ],
   "source": [
    "# move the well, change the pumping rate and travel time, to redraw the source protection zone\n",
    "travel_time_fun()"
   ]
  }
 ],
 "metadata": {
  "kernelspec": {
   "display_name": "py38",
   "language": "python",
   "name": "py38"
  },
  "language_info": {
   "codemirror_mode": {
    "name": "ipython",
    "version": 3
   },
   "file_extension": ".py",
   "mimetype": "text/x-python",
   "name": "python",
   "nbconvert_exporter": "python",
   "pygments_lexer": "ipython3",
   "version": "3.8.8"
  }
 },
 "nbformat": 4,
 "nbformat_minor": 5
}
